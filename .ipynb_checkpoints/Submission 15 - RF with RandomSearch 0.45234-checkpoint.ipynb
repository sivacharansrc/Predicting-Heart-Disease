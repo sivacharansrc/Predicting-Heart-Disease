{
 "cells": [
  {
   "cell_type": "code",
   "execution_count": 1,
   "metadata": {},
   "outputs": [],
   "source": [
    "# Importing necessary libraries\n",
    "\n",
    "import pandas as pd\n",
    "pd.set_option('display.max_rows', 100)\n",
    "pd.set_option('display.max_columns', 100)\n",
    "pd.set_option('expand_frame_repr', False)\n",
    "\n",
    "import numpy as np\n",
    "import matplotlib.pyplot as plt\n",
    "%matplotlib inline\n",
    "import seaborn as sns\n",
    "sns.set_palette(\"cubehelix\") # Other palettes: \"Set2\", \"husl\", \"cubehelix\", \"hls\""
   ]
  },
  {
   "cell_type": "code",
   "execution_count": 2,
   "metadata": {},
   "outputs": [],
   "source": [
    "# Reading the input file\n",
    "\n",
    "import os\n",
    "cwd = os.getcwd()\n",
    "\n",
    "train_values = cwd + \"\\\\Source Data\\\\train_values.csv\"\n",
    "train_values = pd.read_csv(train_values)\n",
    "train_labels = cwd + \"\\\\Source Data\\\\train_labels.csv\"\n",
    "train_labels = pd.read_csv(train_labels)\n",
    "\n",
    "test_values = cwd + \"\\\\Source Data\\\\test_values.csv\"\n",
    "test_values = pd.read_csv(test_values)\n",
    "test_id = test_values.patient_id\n",
    "test = test_values.drop('patient_id', axis=1)\n",
    "\n",
    "train = train_values.join(train_labels.set_index('patient_id'), on='patient_id', how='left')"
   ]
  },
  {
   "cell_type": "code",
   "execution_count": 3,
   "metadata": {},
   "outputs": [],
   "source": [
    "# Data Prep\n",
    "\n",
    "y = train['heart_disease_present']\n",
    "x = train.drop(['heart_disease_present', 'patient_id'], axis=1)"
   ]
  },
  {
   "cell_type": "code",
   "execution_count": 4,
   "metadata": {},
   "outputs": [
    {
     "data": {
      "text/plain": [
       "slope_of_peak_exercise_st_segment       0\n",
       "thal                                    0\n",
       "resting_blood_pressure                  0\n",
       "chest_pain_type                         0\n",
       "num_major_vessels                       0\n",
       "fasting_blood_sugar_gt_120_mg_per_dl    0\n",
       "resting_ekg_results                     0\n",
       "serum_cholesterol_mg_per_dl             0\n",
       "oldpeak_eq_st_depression                0\n",
       "sex                                     0\n",
       "age                                     0\n",
       "max_heart_rate_achieved                 0\n",
       "exercise_induced_angina                 0\n",
       "dtype: int64"
      ]
     },
     "execution_count": 4,
     "metadata": {},
     "output_type": "execute_result"
    }
   ],
   "source": [
    "# Looking for missing or null values\n",
    "\n",
    "x.isna().sum()"
   ]
  },
  {
   "cell_type": "markdown",
   "metadata": {},
   "source": [
    "From the information above, we do not see any missing values in the train data set"
   ]
  },
  {
   "cell_type": "code",
   "execution_count": 5,
   "metadata": {},
   "outputs": [
    {
     "data": {
      "text/plain": [
       "slope_of_peak_exercise_st_segment       0\n",
       "thal                                    0\n",
       "resting_blood_pressure                  0\n",
       "chest_pain_type                         0\n",
       "num_major_vessels                       0\n",
       "fasting_blood_sugar_gt_120_mg_per_dl    0\n",
       "resting_ekg_results                     0\n",
       "serum_cholesterol_mg_per_dl             0\n",
       "oldpeak_eq_st_depression                0\n",
       "sex                                     0\n",
       "age                                     0\n",
       "max_heart_rate_achieved                 0\n",
       "exercise_induced_angina                 0\n",
       "dtype: int64"
      ]
     },
     "execution_count": 5,
     "metadata": {},
     "output_type": "execute_result"
    }
   ],
   "source": [
    "test.isna().sum()"
   ]
  },
  {
   "cell_type": "markdown",
   "metadata": {},
   "source": [
    "There are no missing values for the test data set as well"
   ]
  },
  {
   "cell_type": "code",
   "execution_count": 6,
   "metadata": {},
   "outputs": [
    {
     "data": {
      "text/plain": [
       "slope_of_peak_exercise_st_segment         int64\n",
       "thal                                     object\n",
       "resting_blood_pressure                    int64\n",
       "chest_pain_type                           int64\n",
       "num_major_vessels                         int64\n",
       "fasting_blood_sugar_gt_120_mg_per_dl      int64\n",
       "resting_ekg_results                       int64\n",
       "serum_cholesterol_mg_per_dl               int64\n",
       "oldpeak_eq_st_depression                float64\n",
       "sex                                       int64\n",
       "age                                       int64\n",
       "max_heart_rate_achieved                   int64\n",
       "exercise_induced_angina                   int64\n",
       "dtype: object"
      ]
     },
     "execution_count": 6,
     "metadata": {},
     "output_type": "execute_result"
    }
   ],
   "source": [
    "x.dtypes"
   ]
  },
  {
   "cell_type": "code",
   "execution_count": 7,
   "metadata": {},
   "outputs": [],
   "source": [
    "# Select the columns to include\n",
    "\n",
    "cols_to_include = list(x.columns)\n",
    "\n",
    "cols_to_include = ['int64', 'float64']\n",
    "x = x.select_dtypes(include=cols_to_include)\n",
    "test = test.select_dtypes(include=cols_to_include)\n"
   ]
  },
  {
   "cell_type": "code",
   "execution_count": 8,
   "metadata": {},
   "outputs": [],
   "source": [
    "# Generating dummies\n",
    "\n",
    "x_rows = x.shape[0]\n",
    "df = x.append(test)\n",
    "\n",
    "df = pd.get_dummies(df, drop_first=True)\n",
    "\n",
    "x = df.iloc[:x_rows,]\n",
    "test = df.iloc[x_rows:,]\n"
   ]
  },
  {
   "cell_type": "code",
   "execution_count": 9,
   "metadata": {},
   "outputs": [],
   "source": [
    "# Performing the Train Test Split\n",
    "\n",
    "from sklearn.model_selection import train_test_split\n",
    "x_train, x_validation, y_train, y_validation = train_test_split(x,y, \n",
    "                                                                stratify=y, \n",
    "                                                                random_state=1, \n",
    "                                                                test_size=0.25)"
   ]
  },
  {
   "cell_type": "code",
   "execution_count": 31,
   "metadata": {
    "scrolled": false
   },
   "outputs": [
    {
     "name": "stdout",
     "output_type": "stream",
     "text": [
      "Confustion Matrix for Training Data - Logistic Regression\n",
      "[[69  6]\n",
      " [11 49]]\n",
      "Confustion Matrix for Test Data - Logistic Regression\n",
      "[[19  6]\n",
      " [ 5 15]]\n",
      "Classification Report for Training Data - Logistic Regression\n",
      "              precision    recall  f1-score   support\n",
      "\n",
      "           0       0.86      0.92      0.89        75\n",
      "           1       0.89      0.82      0.85        60\n",
      "\n",
      "   micro avg       0.87      0.87      0.87       135\n",
      "   macro avg       0.88      0.87      0.87       135\n",
      "weighted avg       0.88      0.87      0.87       135\n",
      "\n",
      "Classification Report for Test Data - Logistic Regression\n",
      "              precision    recall  f1-score   support\n",
      "\n",
      "           0       0.79      0.76      0.78        25\n",
      "           1       0.71      0.75      0.73        20\n",
      "\n",
      "   micro avg       0.76      0.76      0.76        45\n",
      "   macro avg       0.75      0.76      0.75        45\n",
      "weighted avg       0.76      0.76      0.76        45\n",
      "\n",
      "Log loss for Training data:  0.34134662517630787\n",
      "Log loss for Validation data:  0.5536118754603836\n",
      "\n",
      "AUROC Plot from Logistic Regression: 0.8080\n"
     ]
    },
    {
     "data": {
      "image/png": "[encoded data removed]",
      "text/plain": [
       "<Figure size 432x288 with 1 Axes>"
      ]
     },
     "metadata": {
      "needs_background": "light"
     },
     "output_type": "display_data"
    }
   ],
   "source": [
    "# Running a simple logistic regression classifier using all the columns\n",
    "\n",
    "from sklearn.linear_model import LogisticRegression\n",
    "\n",
    "model = LogisticRegression(solver='liblinear')\n",
    "model.fit(x_train, y_train)\n",
    "train_predictions = model.predict(x_train)\n",
    "predictions = model.predict(x_validation)\n",
    "\n",
    "# Accuracy Metrics\n",
    "\n",
    "from sklearn.metrics import confusion_matrix\n",
    "from sklearn.metrics import classification_report\n",
    "from sklearn.metrics import log_loss\n",
    "from sklearn.metrics import roc_auc_score\n",
    "from sklearn.metrics import roc_curve\n",
    "\n",
    "# Confusion Matrix Comparison\n",
    "print(\"Confustion Matrix for Training Data - Logistic Regression\")\n",
    "print(confusion_matrix(y_train, train_predictions))\n",
    "print(\"Confustion Matrix for Test Data - Logistic Regression\")\n",
    "print(confusion_matrix(y_validation, predictions))\n",
    "\n",
    "# Classification Report Comparison\n",
    "print(\"Classification Report for Training Data - Logistic Regression\")\n",
    "print(classification_report(y_train, train_predictions))\n",
    "print(\"Classification Report for Test Data - Logistic Regression\")\n",
    "print(classification_report(y_validation, predictions))\n",
    "\n",
    "proba_train_predictions = model.predict_proba(x_train)[:,1]\n",
    "proba_predictions = model.predict_proba(x_validation)[:,1]\n",
    "roc_auc_score(y_validation, proba_predictions, average='weighted')\n",
    "\n",
    "# Print the log loss metric\n",
    "\n",
    "print(\"Log loss for Training data: \", log_loss(y_train, proba_train_predictions))\n",
    "print(\"Log loss for Validation data: \", log_loss(y_validation, proba_predictions))\n",
    "\n",
    "fpr, tpr, threshold = roc_curve(y_validation, proba_predictions)\n",
    "\n",
    "# Calculating the AUC Score\n",
    "auc = np.trapz(tpr,fpr)\n",
    "pltTitle = print(\"\\nAUROC Plot from Logistic Regression:\", \"%.4f\" %auc)\n",
    "\n",
    "# Plotting the ROC Curve\n",
    "plt.plot(fpr,tpr)\n",
    "plt.title(pltTitle)\n",
    "plt.show()"
   ]
  },
  {
   "cell_type": "code",
   "execution_count": 33,
   "metadata": {},
   "outputs": [
    {
     "name": "stdout",
     "output_type": "stream",
     "text": [
      "Confustion Matrix for Training Data - Logistic Regression\n",
      "[[64 11]\n",
      " [14 46]]\n",
      "Confustion Matrix for Test Data - Logistic Regression\n",
      "[[18  7]\n",
      " [ 3 17]]\n",
      "Classification Report for Training Data - Logistic Regression\n",
      "              precision    recall  f1-score   support\n",
      "\n",
      "           0       0.82      0.85      0.84        75\n",
      "           1       0.81      0.77      0.79        60\n",
      "\n",
      "   micro avg       0.81      0.81      0.81       135\n",
      "   macro avg       0.81      0.81      0.81       135\n",
      "weighted avg       0.81      0.81      0.81       135\n",
      "\n",
      "Classification Report for Test Data - Logistic Regression\n",
      "              precision    recall  f1-score   support\n",
      "\n",
      "           0       0.86      0.72      0.78        25\n",
      "           1       0.71      0.85      0.77        20\n",
      "\n",
      "   micro avg       0.78      0.78      0.78        45\n",
      "   macro avg       0.78      0.78      0.78        45\n",
      "weighted avg       0.79      0.78      0.78        45\n",
      "\n",
      "Log loss for Training data:  0.5104732377586367\n",
      "Log loss for Validation data:  0.9905726701700732\n",
      "\n",
      "AUROC Plot from Guassian NB: 0.8280\n"
     ]
    },
    {
     "data": {
      "image/png": "[encoded data removed]",
      "text/plain": [
       "<Figure size 432x288 with 1 Axes>"
      ]
     },
     "metadata": {
      "needs_background": "light"
     },
     "output_type": "display_data"
    }
   ],
   "source": [
    "# Running a Naive Bayes Guassian Model:\n",
    "# Guassian model because the predictors follow a Normal Distribution\n",
    "\n",
    "from sklearn.naive_bayes import GaussianNB\n",
    "model = GaussianNB()\n",
    "\n",
    "# Training the model using the training data\n",
    "\n",
    "model.fit(x_train, y_train)\n",
    "train_predictions = model.predict(x_train)\n",
    "predictions = model.predict(x_validation)\n",
    "\n",
    "# Accuracy Metrics\n",
    "\n",
    "from sklearn.metrics import confusion_matrix\n",
    "from sklearn.metrics import classification_report\n",
    "from sklearn.metrics import accuracy_score\n",
    "from sklearn.metrics import roc_auc_score\n",
    "from sklearn.metrics import roc_curve\n",
    "\n",
    "# Confusion Matrix Comparison\n",
    "print(\"Confustion Matrix for Training Data - Logistic Regression\")\n",
    "print(confusion_matrix(y_train, train_predictions))\n",
    "print(\"Confustion Matrix for Test Data - Logistic Regression\")\n",
    "print(confusion_matrix(y_validation, predictions))\n",
    "\n",
    "# Classification Report Comparison\n",
    "print(\"Classification Report for Training Data - Logistic Regression\")\n",
    "print(classification_report(y_train, train_predictions))\n",
    "print(\"Classification Report for Test Data - Logistic Regression\")\n",
    "print(classification_report(y_validation, predictions))\n",
    "\n",
    "proba_train_predictions = model.predict_proba(x_train)[:,1]\n",
    "proba_predictions = model.predict_proba(x_validation)[:,1]\n",
    "roc_auc_score(y_validation, proba_predictions, average='weighted')\n",
    "\n",
    "# Print the log loss metric\n",
    "\n",
    "print(\"Log loss for Training data: \", log_loss(y_train, proba_train_predictions))\n",
    "print(\"Log loss for Validation data: \", log_loss(y_validation, proba_predictions))\n",
    "\n",
    "fpr, tpr, threshold = roc_curve(y_validation, proba_predictions)\n",
    "\n",
    "# Calculating the AUC Score\n",
    "auc = np.trapz(tpr,fpr)\n",
    "pltTitle = print(\"\\nAUROC Plot from Guassian NB:\", \"%.4f\" %auc)\n",
    "\n",
    "# Plotting the ROC Curve\n",
    "plt.plot(fpr,tpr)\n",
    "plt.title(pltTitle)\n",
    "plt.show()"
   ]
  },
  {
   "cell_type": "code",
   "execution_count": 19,
   "metadata": {},
   "outputs": [
    {
     "name": "stdout",
     "output_type": "stream",
     "text": [
      "Confustion Matrix for Training Data - Logistic Regression\n",
      "[[60 15]\n",
      " [26 34]]\n",
      "Confustion Matrix for Test Data - Logistic Regression\n",
      "[[16  9]\n",
      " [10 10]]\n",
      "Classification Report for Training Data - Logistic Regression\n",
      "              precision    recall  f1-score   support\n",
      "\n",
      "           0       0.70      0.80      0.75        75\n",
      "           1       0.69      0.57      0.62        60\n",
      "\n",
      "   micro avg       0.70      0.70      0.70       135\n",
      "   macro avg       0.70      0.68      0.68       135\n",
      "weighted avg       0.70      0.70      0.69       135\n",
      "\n",
      "Classification Report for Test Data - Logistic Regression\n",
      "              precision    recall  f1-score   support\n",
      "\n",
      "           0       0.62      0.64      0.63        25\n",
      "           1       0.53      0.50      0.51        20\n",
      "\n",
      "   micro avg       0.58      0.58      0.58        45\n",
      "   macro avg       0.57      0.57      0.57        45\n",
      "weighted avg       0.58      0.58      0.58        45\n",
      "\n",
      "Log loss for Training data:  0.5684008879328853\n",
      "Log loss for Validation data:  1.4775128619626603\n",
      "\n",
      "AUROC Plot from Guassian NB: 0.5660\n"
     ]
    },
    {
     "data": {
      "image/png": "[encoded data removed]",
      "text/plain": [
       "<Figure size 432x288 with 1 Axes>"
      ]
     },
     "metadata": {
      "needs_background": "light"
     },
     "output_type": "display_data"
    }
   ],
   "source": [
    "# Running a K-NN Classifier:\n",
    "\n",
    "from sklearn.neighbors import KNeighborsClassifier\n",
    "model = KNeighborsClassifier(n_neighbors=10)\n",
    "\n",
    "# Training the model using the training data\n",
    "\n",
    "model.fit(x_train, y_train)\n",
    "train_predictions = model.predict(x_train)\n",
    "predictions = model.predict(x_validation)\n",
    "\n",
    "# Accuracy Metrics\n",
    "\n",
    "from sklearn.metrics import confusion_matrix\n",
    "from sklearn.metrics import classification_report\n",
    "from sklearn.metrics import accuracy_score\n",
    "from sklearn.metrics import roc_auc_score\n",
    "from sklearn.metrics import roc_curve\n",
    "\n",
    "# Confusion Matrix Comparison\n",
    "print(\"Confustion Matrix for Training Data - Logistic Regression\")\n",
    "print(confusion_matrix(y_train, train_predictions))\n",
    "print(\"Confustion Matrix for Test Data - Logistic Regression\")\n",
    "print(confusion_matrix(y_validation, predictions))\n",
    "\n",
    "# Classification Report Comparison\n",
    "print(\"Classification Report for Training Data - Logistic Regression\")\n",
    "print(classification_report(y_train, train_predictions))\n",
    "print(\"Classification Report for Test Data - Logistic Regression\")\n",
    "print(classification_report(y_validation, predictions))\n",
    "\n",
    "proba_train_predictions = model.predict_proba(x_train)[:,1]\n",
    "proba_predictions = model.predict_proba(x_validation)[:,1]\n",
    "roc_auc_score(y_validation, proba_predictions, average='weighted')\n",
    "\n",
    "# Print the log loss metric\n",
    "\n",
    "print(\"Log loss for Training data: \", log_loss(y_train, proba_train_predictions))\n",
    "print(\"Log loss for Validation data: \", log_loss(y_validation, proba_predictions))\n",
    "\n",
    "fpr, tpr, threshold = roc_curve(y_validation, proba_predictions)\n",
    "\n",
    "# Calculating the AUC Score\n",
    "auc = np.trapz(tpr,fpr)\n",
    "pltTitle = print(\"\\nAUROC Plot from Guassian NB:\", \"%.4f\" %auc)\n",
    "\n",
    "# Plotting the ROC Curve\n",
    "plt.plot(fpr,tpr)\n",
    "plt.title(pltTitle)\n",
    "plt.show()"
   ]
  },
  {
   "cell_type": "code",
   "execution_count": 25,
   "metadata": {},
   "outputs": [],
   "source": [
    "# Perform Normalization of data\n",
    "\n",
    "from sklearn.preprocessing import Normalizer\n",
    "\n",
    "normalizer = Normalizer()\n",
    "normalized_x = normalizer.fit_transform(x_train)\n",
    "normalized_test = normalizer.fit_transform(test)\n",
    "\n",
    "# Performing the Train Test Split\n",
    "\n",
    "from sklearn.model_selection import train_test_split\n",
    "normalized_x_train, normalized_x_validation, y_train, y_validation = train_test_split(x,y, \n",
    "                                                                stratify=y, \n",
    "                                                                random_state=1, \n",
    "                                                                test_size=0.25)"
   ]
  },
  {
   "cell_type": "code",
   "execution_count": 29,
   "metadata": {},
   "outputs": [
    {
     "name": "stdout",
     "output_type": "stream",
     "text": [
      "Confustion Matrix for Normalized Training Data - Logistic Regression\n",
      "[[69  6]\n",
      " [11 49]]\n",
      "Confustion Matrix for Normalized Test Data - Logistic Regression\n",
      "[[19  6]\n",
      " [ 5 15]]\n",
      "Classification Report for Normalized Training Data - Logistic Regression\n",
      "              precision    recall  f1-score   support\n",
      "\n",
      "           0       0.86      0.92      0.89        75\n",
      "           1       0.89      0.82      0.85        60\n",
      "\n",
      "   micro avg       0.87      0.87      0.87       135\n",
      "   macro avg       0.88      0.87      0.87       135\n",
      "weighted avg       0.88      0.87      0.87       135\n",
      "\n",
      "Classification Report for Normalized Test Data - Logistic Regression\n",
      "              precision    recall  f1-score   support\n",
      "\n",
      "           0       0.79      0.76      0.78        25\n",
      "           1       0.71      0.75      0.73        20\n",
      "\n",
      "   micro avg       0.76      0.76      0.76        45\n",
      "   macro avg       0.75      0.76      0.75        45\n",
      "weighted avg       0.76      0.76      0.76        45\n",
      "\n",
      "Log loss for Normalized Training data:  0.34134662517630787\n",
      "Log loss for Normalized Validation data:  0.5536118754603836\n",
      "\n",
      "AUROC Plot from Logistic Regression for Normalized data: 0.8080\n"
     ]
    },
    {
     "data": {
      "image/png": "[encoded data removed]",
      "text/plain": [
       "<Figure size 432x288 with 1 Axes>"
      ]
     },
     "metadata": {
      "needs_background": "light"
     },
     "output_type": "display_data"
    }
   ],
   "source": [
    "\n",
    "from sklearn.linear_model import LogisticRegression\n",
    "model = LogisticRegression(solver='liblinear')\n",
    "\n",
    "# Training the model using the training data\n",
    "\n",
    "model.fit(normalized_x_train, y_train)\n",
    "train_predictions = model.predict(normalized_x_train)\n",
    "predictions = model.predict(normalized_x_validation)\n",
    "\n",
    "# Accuracy Metrics\n",
    "\n",
    "from sklearn.metrics import confusion_matrix\n",
    "from sklearn.metrics import classification_report\n",
    "from sklearn.metrics import accuracy_score\n",
    "from sklearn.metrics import roc_auc_score\n",
    "from sklearn.metrics import roc_curve\n",
    "\n",
    "# Confusion Matrix Comparison\n",
    "print(\"Confustion Matrix for Normalized Training Data - Logistic Regression\")\n",
    "print(confusion_matrix(y_train, train_predictions))\n",
    "print(\"Confustion Matrix for Normalized Test Data - Logistic Regression\")\n",
    "print(confusion_matrix(y_validation, predictions))\n",
    "\n",
    "# Classification Report Comparison\n",
    "print(\"Classification Report for Normalized Training Data - Logistic Regression\")\n",
    "print(classification_report(y_train, train_predictions))\n",
    "print(\"Classification Report for Normalized Test Data - Logistic Regression\")\n",
    "print(classification_report(y_validation, predictions))\n",
    "\n",
    "proba_train_predictions = model.predict_proba(normalized_x_train)[:,1]\n",
    "proba_predictions = model.predict_proba(normalized_x_validation)[:,1]\n",
    "roc_auc_score(y_validation, proba_predictions, average='weighted')\n",
    "\n",
    "# Print the log loss metric\n",
    "\n",
    "print(\"Log loss for Normalized Training data: \", log_loss(y_train, proba_train_predictions))\n",
    "print(\"Log loss for Normalized Validation data: \", log_loss(y_validation, proba_predictions))\n",
    "\n",
    "fpr, tpr, threshold = roc_curve(y_validation, proba_predictions)\n",
    "\n",
    "# Calculating the AUC Score\n",
    "auc = np.trapz(tpr,fpr)\n",
    "pltTitle = print(\"\\nAUROC Plot from Logistic Regression for Normalized data:\", \"%.4f\" %auc)\n",
    "\n",
    "# Plotting the ROC Curve\n",
    "plt.plot(fpr,tpr)\n",
    "plt.title(pltTitle)\n",
    "plt.show()"
   ]
  },
  {
   "cell_type": "code",
   "execution_count": 28,
   "metadata": {},
   "outputs": [
    {
     "name": "stdout",
     "output_type": "stream",
     "text": [
      "Confustion Matrix for Normalized Training Data - GuassianNB\n",
      "[[64 11]\n",
      " [14 46]]\n",
      "Confustion Matrix for Normalized Test Data - GuassianNB\n",
      "[[18  7]\n",
      " [ 3 17]]\n",
      "Classification Report for Normalized Training Data - GuassianNB\n",
      "              precision    recall  f1-score   support\n",
      "\n",
      "           0       0.82      0.85      0.84        75\n",
      "           1       0.81      0.77      0.79        60\n",
      "\n",
      "   micro avg       0.81      0.81      0.81       135\n",
      "   macro avg       0.81      0.81      0.81       135\n",
      "weighted avg       0.81      0.81      0.81       135\n",
      "\n",
      "Classification Report for Normalized Test Data - GuassianNB\n",
      "              precision    recall  f1-score   support\n",
      "\n",
      "           0       0.86      0.72      0.78        25\n",
      "           1       0.71      0.85      0.77        20\n",
      "\n",
      "   micro avg       0.78      0.78      0.78        45\n",
      "   macro avg       0.78      0.78      0.78        45\n",
      "weighted avg       0.79      0.78      0.78        45\n",
      "\n",
      "Log loss for Normalized Training data:  0.5104732377586367\n",
      "Log loss for Normalized Validation data:  0.9905726701700732\n",
      "\n",
      "AUROC Plot from GuassianNB for Normalized data: 0.8280\n"
     ]
    },
    {
     "data": {
      "image/png": "[encoded data removed]",
      "text/plain": [
       "<Figure size 432x288 with 1 Axes>"
      ]
     },
     "metadata": {
      "needs_background": "light"
     },
     "output_type": "display_data"
    }
   ],
   "source": [
    "# Training the model using the training data\n",
    "\n",
    "# Running a Naive Bayes Guassian Model:\n",
    "# Guassian model because the predictors follow a Normal Distribution\n",
    "\n",
    "from sklearn.naive_bayes import GaussianNB\n",
    "model = GaussianNB()\n",
    "\n",
    "model.fit(normalized_x_train, y_train)\n",
    "train_predictions = model.predict(normalized_x_train)\n",
    "predictions = model.predict(normalized_x_validation)\n",
    "\n",
    "# Accuracy Metrics\n",
    "\n",
    "from sklearn.metrics import confusion_matrix\n",
    "from sklearn.metrics import classification_report\n",
    "from sklearn.metrics import accuracy_score\n",
    "from sklearn.metrics import roc_auc_score\n",
    "from sklearn.metrics import roc_curve\n",
    "\n",
    "# Confusion Matrix Comparison\n",
    "print(\"Confustion Matrix for Normalized Training Data - GuassianNB\")\n",
    "print(confusion_matrix(y_train, train_predictions))\n",
    "print(\"Confustion Matrix for Normalized Test Data - GuassianNB\")\n",
    "print(confusion_matrix(y_validation, predictions))\n",
    "\n",
    "# Classification Report Comparison\n",
    "print(\"Classification Report for Normalized Training Data - GuassianNB\")\n",
    "print(classification_report(y_train, train_predictions))\n",
    "print(\"Classification Report for Normalized Test Data - GuassianNB\")\n",
    "print(classification_report(y_validation, predictions))\n",
    "\n",
    "proba_train_predictions = model.predict_proba(normalized_x_train)[:,1]\n",
    "proba_predictions = model.predict_proba(normalized_x_validation)[:,1]\n",
    "roc_auc_score(y_validation, proba_predictions, average='weighted')\n",
    "\n",
    "# Print the log loss metric\n",
    "\n",
    "print(\"Log loss for Normalized Training data: \", log_loss(y_train, proba_train_predictions))\n",
    "print(\"Log loss for Normalized Validation data: \", log_loss(y_validation, proba_predictions))\n",
    "\n",
    "fpr, tpr, threshold = roc_curve(y_validation, proba_predictions)\n",
    "\n",
    "# Calculating the AUC Score\n",
    "auc = np.trapz(tpr,fpr)\n",
    "pltTitle = print(\"\\nAUROC Plot from GuassianNB for Normalized data:\", \"%.4f\" %auc)\n",
    "\n",
    "# Plotting the ROC Curve\n",
    "plt.plot(fpr,tpr)\n",
    "plt.title(pltTitle)\n",
    "plt.show()"
   ]
  },
  {
   "cell_type": "code",
   "execution_count": 27,
   "metadata": {},
   "outputs": [
    {
     "name": "stdout",
     "output_type": "stream",
     "text": [
      "Confustion Matrix for Training Data - Logistic Regression\n",
      "[[75  0]\n",
      " [ 0 60]]\n",
      "Confustion Matrix for Test Data - Logistic Regression\n",
      "[[13 12]\n",
      " [ 8 12]]\n",
      "Classification Report for Training Data - Logistic Regression\n",
      "              precision    recall  f1-score   support\n",
      "\n",
      "           0       1.00      1.00      1.00        75\n",
      "           1       1.00      1.00      1.00        60\n",
      "\n",
      "   micro avg       1.00      1.00      1.00       135\n",
      "   macro avg       1.00      1.00      1.00       135\n",
      "weighted avg       1.00      1.00      1.00       135\n",
      "\n",
      "Classification Report for Test Data - Logistic Regression\n",
      "              precision    recall  f1-score   support\n",
      "\n",
      "           0       0.62      0.52      0.57        25\n",
      "           1       0.50      0.60      0.55        20\n",
      "\n",
      "   micro avg       0.56      0.56      0.56        45\n",
      "   macro avg       0.56      0.56      0.56        45\n",
      "weighted avg       0.57      0.56      0.56        45\n",
      "\n",
      "Log loss for Training data:  9.992007221626415e-16\n",
      "Log loss for Validation data:  1.4930106863856196\n",
      "\n",
      "AUROC Plot from Guassian NB: 0.5540\n"
     ]
    },
    {
     "data": {
      "image/png": "[encoded data removed]",
      "text/plain": [
       "<Figure size 432x288 with 1 Axes>"
      ]
     },
     "metadata": {
      "needs_background": "light"
     },
     "output_type": "display_data"
    }
   ],
   "source": [
    "# Running a K-NN Classifier:\n",
    "\n",
    "from sklearn.neighbors import KNeighborsClassifier\n",
    "model = KNeighborsClassifier(n_neighbors=10, weights='distance')\n",
    "\n",
    "# Training the model using the training data\n",
    "\n",
    "model.fit(normalized_x_train, y_train)\n",
    "train_predictions = model.predict(normalized_x_train)\n",
    "predictions = model.predict(normalized_x_validation)\n",
    "\n",
    "# Accuracy Metrics\n",
    "\n",
    "from sklearn.metrics import confusion_matrix\n",
    "from sklearn.metrics import classification_report\n",
    "from sklearn.metrics import accuracy_score\n",
    "from sklearn.metrics import roc_auc_score\n",
    "from sklearn.metrics import roc_curve\n",
    "\n",
    "# Confusion Matrix Comparison\n",
    "print(\"Confustion Matrix for Normalized Training Data - KNN Classifier\")\n",
    "print(confusion_matrix(y_train, train_predictions))\n",
    "print(\"Confustion Matrix for Normalized Test Data - KNN Classifier\")\n",
    "print(confusion_matrix(y_validation, predictions))\n",
    "\n",
    "# Classification Report Comparison\n",
    "print(\"Classification Report for Normalized Training Data - KNN Classifier\")\n",
    "print(classification_report(y_train, train_predictions))\n",
    "print(\"Classification Report for Normalized Test Data - KNN Classifier\")\n",
    "print(classification_report(y_validation, predictions))\n",
    "\n",
    "proba_train_predictions = model.predict_proba(normalized_x_train)[:,1]\n",
    "proba_predictions = model.predict_proba(normalized_x_validation)[:,1]\n",
    "roc_auc_score(y_validation, proba_predictions, average='weighted')\n",
    "\n",
    "# Print the log loss metric\n",
    "\n",
    "print(\"Log loss for Normalized Training data: \", log_loss(y_train, proba_train_predictions))\n",
    "print(\"Log loss for Normalized Validation data: \", log_loss(y_validation, proba_predictions))\n",
    "\n",
    "fpr, tpr, threshold = roc_curve(y_validation, proba_predictions)\n",
    "\n",
    "# Calculating the AUC Score\n",
    "auc = np.trapz(tpr,fpr)\n",
    "pltTitle = print(\"\\nAUROC Plot from KNN Classifier for Normalized data:\", \"%.4f\" %auc)\n",
    "\n",
    "# Plotting the ROC Curve\n",
    "plt.plot(fpr,tpr)\n",
    "plt.title(pltTitle)\n",
    "plt.show()"
   ]
  },
  {
   "cell_type": "code",
   "execution_count": 34,
   "metadata": {},
   "outputs": [],
   "source": [
    "# Generating output using Logistic Regression without normalizing the data\n",
    "\n",
    "proba_test_predictions = model.predict_proba(test)[:,1]\n",
    "\n",
    "output = pd.DataFrame({'patient_id': test_id, 'heart_disease_present':proba_test_predictions})\n",
    "output.to_csv(cwd + \"\\\\Output Data\\\\Submission 14 - Simple NB logloss 0.9905.csv\", index=False)"
   ]
  },
  {
   "cell_type": "code",
   "execution_count": null,
   "metadata": {},
   "outputs": [],
   "source": []
  },
  {
   "cell_type": "code",
   "execution_count": 35,
   "metadata": {},
   "outputs": [
    {
     "name": "stderr",
     "output_type": "stream",
     "text": [
      "warning: LF will be replaced by CRLF in .ipynb_checkpoints/Data Prep and Base Model-checkpoint.ipynb.\n",
      "The file will have its original line endings in your working directory.\n",
      "warning: LF will be replaced by CRLF in Data Prep and Base Model.ipynb.\n",
      "The file will have its original line endings in your working directory.\n",
      "warning: LF will be replaced by CRLF in .ipynb_checkpoints/Submission 13 - Logistic Regression LB 0.397-checkpoint.ipynb.\n",
      "The file will have its original line endings in your working directory.\n",
      "warning: LF will be replaced by CRLF in Submission 13 - Logistic Regression LB 0.397.ipynb.\n",
      "The file will have its original line endings in your working directory.\n"
     ]
    },
    {
     "name": "stdout",
     "output_type": "stream",
     "text": [
      "[master 8cf5979] Submission 13 - Logistic Regression LB 0.397\n",
      " 6 files changed, 3036 insertions(+), 606 deletions(-)\n",
      " rewrite .ipynb_checkpoints/Data Prep and Base Model-checkpoint.ipynb (68%)\n",
      " create mode 100644 .ipynb_checkpoints/Submission 13 - Logistic Regression LB 0.397-checkpoint.ipynb\n",
      " rewrite Data Prep and Base Model.ipynb (67%)\n",
      " create mode 100644 Output Data/Submission 13 - Simple Logistic Regression logloss 0.5536.csv\n",
      " create mode 100644 Output Data/Submission 14 - Simple NB logloss 0.9905.csv\n",
      " create mode 100644 Submission 13 - Logistic Regression LB 0.397.ipynb\n"
     ]
    },
    {
     "name": "stderr",
     "output_type": "stream",
     "text": [
      "To https://github.com/sivacharansrc/Predicting-Heart-Disease.git\n",
      "   0a1a28b..8cf5979  master -> master\n"
     ]
    }
   ],
   "source": [
    "# Pushing the repo to git\n",
    "\n",
    "! cd \"C:\\\\Users\\\\sivac\\\\Documents\\\\Python Projects\\\\Driven Data\\\\Predicting Heart Disease\"\n",
    "\n",
    "! git add .\n",
    "! git commit -am \"Submission 13 - Logistic Regression LB 0.397\"\n",
    "! git push"
   ]
  }
 ],
 "metadata": {
  "kernelspec": {
   "display_name": "Python 3",
   "language": "python",
   "name": "python3"
  },
  "language_info": {
   "codemirror_mode": {
    "name": "ipython",
    "version": 3
   },
   "file_extension": ".py",
   "mimetype": "text/x-python",
   "name": "python",
   "nbconvert_exporter": "python",
   "pygments_lexer": "ipython3",
   "version": "3.7.3"
  }
 },
 "nbformat": 4,
 "nbformat_minor": 2
}
