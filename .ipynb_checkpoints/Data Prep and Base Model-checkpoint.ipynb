{
 "cells": [
  {
   "cell_type": "code",
   "execution_count": 1,
   "metadata": {},
   "outputs": [],
   "source": [
    "# Importing necessary libraries\n",
    "\n",
    "import pandas as pd\n",
    "pd.set_option('display.max_rows', 100)\n",
    "pd.set_option('display.max_columns', 100)\n",
    "pd.set_option('expand_frame_repr', False)\n",
    "\n",
    "import numpy as np\n",
    "import matplotlib.pyplot as plt\n",
    "%matplotlib inline\n",
    "import seaborn as sns\n",
    "sns.set_palette(\"cubehelix\") # Other palettes: \"Set2\", \"husl\", \"cubehelix\", \"hls\""
   ]
  },
  {
   "cell_type": "code",
   "execution_count": 2,
   "metadata": {},
   "outputs": [],
   "source": [
    "# Reading the input file\n",
    "\n",
    "import os\n",
    "cwd = os.getcwd()\n",
    "\n",
    "train_values = cwd + \"\\\\Source Data\\\\train_values.csv\"\n",
    "train_values = pd.read_csv(train_values)\n",
    "train_labels = cwd + \"\\\\Source Data\\\\train_labels.csv\"\n",
    "train_labels = pd.read_csv(train_labels)\n",
    "\n",
    "test_values = cwd + \"\\\\Source Data\\\\test_values.csv\"\n",
    "test_values = pd.read_csv(test_values)\n",
    "test_id = test_values.patient_id\n",
    "test = test_values.drop('patient_id', axis=1)\n",
    "\n",
    "train = train_values.join(train_labels.set_index('patient_id'), on='patient_id', how='left')"
   ]
  },
  {
   "cell_type": "code",
   "execution_count": 3,
   "metadata": {},
   "outputs": [],
   "source": [
    "# Data Prep\n",
    "\n",
    "re_categorize_values = {\"chest_pain_type\": {1: \"one\", 2: \"two\", 3: \"three\", 4: \"four\"},\n",
    "                       \"fasting_blood_sugar_gt_120_mg_per_dl\": {0: \"Less than 120\", 1: \"Greater than 120\"},\n",
    "                       \"resting_ekg_results\": {1: \"one\", 2: \"two\", 0: \"zero\"},\n",
    "                       \"sex\": {0: \"female\", 1: \"male\"},\n",
    "                       \"exercise_induced_angina\": {0: \"No\", 1: \"Yes\"}}\n",
    "\n",
    "train.replace(re_categorize_values, inplace=True)\n",
    "test.replace(re_categorize_values, inplace=True)\n",
    "\n",
    "y = train['heart_disease_present']\n",
    "x = train.drop(['heart_disease_present', 'patient_id'], axis=1)"
   ]
  },
  {
   "cell_type": "code",
   "execution_count": 4,
   "metadata": {},
   "outputs": [
    {
     "data": {
      "text/plain": [
       "slope_of_peak_exercise_st_segment       0\n",
       "thal                                    0\n",
       "resting_blood_pressure                  0\n",
       "chest_pain_type                         0\n",
       "num_major_vessels                       0\n",
       "fasting_blood_sugar_gt_120_mg_per_dl    0\n",
       "resting_ekg_results                     0\n",
       "serum_cholesterol_mg_per_dl             0\n",
       "oldpeak_eq_st_depression                0\n",
       "sex                                     0\n",
       "age                                     0\n",
       "max_heart_rate_achieved                 0\n",
       "exercise_induced_angina                 0\n",
       "dtype: int64"
      ]
     },
     "execution_count": 4,
     "metadata": {},
     "output_type": "execute_result"
    }
   ],
   "source": [
    "# Looking for missing or null values\n",
    "\n",
    "x.isna().sum()"
   ]
  },
  {
   "cell_type": "markdown",
   "metadata": {},
   "source": [
    "From the information above, we do not see any missing values in the train data set"
   ]
  },
  {
   "cell_type": "code",
   "execution_count": 5,
   "metadata": {},
   "outputs": [
    {
     "data": {
      "text/plain": [
       "slope_of_peak_exercise_st_segment       0\n",
       "thal                                    0\n",
       "resting_blood_pressure                  0\n",
       "chest_pain_type                         0\n",
       "num_major_vessels                       0\n",
       "fasting_blood_sugar_gt_120_mg_per_dl    0\n",
       "resting_ekg_results                     0\n",
       "serum_cholesterol_mg_per_dl             0\n",
       "oldpeak_eq_st_depression                0\n",
       "sex                                     0\n",
       "age                                     0\n",
       "max_heart_rate_achieved                 0\n",
       "exercise_induced_angina                 0\n",
       "dtype: int64"
      ]
     },
     "execution_count": 5,
     "metadata": {},
     "output_type": "execute_result"
    }
   ],
   "source": [
    "test.isna().sum()"
   ]
  },
  {
   "cell_type": "markdown",
   "metadata": {},
   "source": [
    "There are no missing values for the test data set as well"
   ]
  },
  {
   "cell_type": "code",
   "execution_count": 6,
   "metadata": {},
   "outputs": [
    {
     "data": {
      "text/plain": [
       "slope_of_peak_exercise_st_segment         int64\n",
       "thal                                     object\n",
       "resting_blood_pressure                    int64\n",
       "chest_pain_type                          object\n",
       "num_major_vessels                         int64\n",
       "fasting_blood_sugar_gt_120_mg_per_dl     object\n",
       "resting_ekg_results                      object\n",
       "serum_cholesterol_mg_per_dl               int64\n",
       "oldpeak_eq_st_depression                float64\n",
       "sex                                      object\n",
       "age                                       int64\n",
       "max_heart_rate_achieved                   int64\n",
       "exercise_induced_angina                  object\n",
       "dtype: object"
      ]
     },
     "execution_count": 6,
     "metadata": {},
     "output_type": "execute_result"
    }
   ],
   "source": [
    "x.dtypes"
   ]
  },
  {
   "cell_type": "code",
   "execution_count": 7,
   "metadata": {},
   "outputs": [],
   "source": [
    "# Select the columns to include\n",
    "\n",
    "cols_to_include = list(x.columns)\n",
    "#cols_to_include.remove('thal')\n",
    "\n",
    "x = x[cols_to_include]\n",
    "test = test[cols_to_include] "
   ]
  },
  {
   "cell_type": "code",
   "execution_count": 8,
   "metadata": {},
   "outputs": [],
   "source": [
    "# Generating dummies\n",
    "\n",
    "x_rows = x.shape[0]\n",
    "df = x.append(test)\n",
    "\n",
    "df = pd.get_dummies(df, drop_first=True)\n",
    "\n",
    "x = df.iloc[:x_rows,]\n",
    "test = df.iloc[x_rows:,]\n"
   ]
  },
  {
   "cell_type": "code",
   "execution_count": 9,
   "metadata": {},
   "outputs": [],
   "source": [
    "# Performing the Train Test Split\n",
    "\n",
    "from sklearn.model_selection import train_test_split\n",
    "x_train, x_validation, y_train, y_validation = train_test_split(x,y, \n",
    "                                                                stratify=y, \n",
    "                                                                random_state=1, \n",
    "                                                                test_size=0.25)"
   ]
  },
  {
   "cell_type": "code",
   "execution_count": 10,
   "metadata": {
    "scrolled": false
   },
   "outputs": [
    {
     "name": "stdout",
     "output_type": "stream",
     "text": [
      "Confustion Matrix for Training Data - Logistic Regression\n",
      "[[69  6]\n",
      " [ 9 51]]\n",
      "Confustion Matrix for Test Data - Logistic Regression\n",
      "[[20  5]\n",
      " [ 4 16]]\n",
      "Classification Report for Training Data - Logistic Regression\n",
      "              precision    recall  f1-score   support\n",
      "\n",
      "           0       0.88      0.92      0.90        75\n",
      "           1       0.89      0.85      0.87        60\n",
      "\n",
      "   micro avg       0.89      0.89      0.89       135\n",
      "   macro avg       0.89      0.89      0.89       135\n",
      "weighted avg       0.89      0.89      0.89       135\n",
      "\n",
      "Classification Report for Test Data - Logistic Regression\n",
      "              precision    recall  f1-score   support\n",
      "\n",
      "           0       0.83      0.80      0.82        25\n",
      "           1       0.76      0.80      0.78        20\n",
      "\n",
      "   micro avg       0.80      0.80      0.80        45\n",
      "   macro avg       0.80      0.80      0.80        45\n",
      "weighted avg       0.80      0.80      0.80        45\n",
      "\n",
      "Log loss for Training data:  0.30116677970896105\n",
      "Log loss for Validation data:  0.5460666484694593\n",
      "\n",
      "AUROC Plot from Logistic Regression: 0.8220\n"
     ]
    },
    {
     "data": {
      "image/png": "[encoded data removed]",
      "text/plain": [
       "<Figure size 432x288 with 1 Axes>"
      ]
     },
     "metadata": {
      "needs_background": "light"
     },
     "output_type": "display_data"
    }
   ],
   "source": [
    "# Running a simple logistic regression classifier using all the columns\n",
    "\n",
    "from sklearn.linear_model import LogisticRegression\n",
    "\n",
    "model = LogisticRegression(solver='liblinear')\n",
    "model.fit(x_train, y_train)\n",
    "train_predictions = model.predict(x_train)\n",
    "predictions = model.predict(x_validation)\n",
    "\n",
    "# Accuracy Metrics\n",
    "\n",
    "from sklearn.metrics import confusion_matrix\n",
    "from sklearn.metrics import classification_report\n",
    "from sklearn.metrics import log_loss\n",
    "from sklearn.metrics import roc_auc_score\n",
    "from sklearn.metrics import roc_curve\n",
    "\n",
    "# Confusion Matrix Comparison\n",
    "print(\"Confustion Matrix for Training Data - Logistic Regression\")\n",
    "print(confusion_matrix(y_train, train_predictions))\n",
    "print(\"Confustion Matrix for Test Data - Logistic Regression\")\n",
    "print(confusion_matrix(y_validation, predictions))\n",
    "\n",
    "# Classification Report Comparison\n",
    "print(\"Classification Report for Training Data - Logistic Regression\")\n",
    "print(classification_report(y_train, train_predictions))\n",
    "print(\"Classification Report for Test Data - Logistic Regression\")\n",
    "print(classification_report(y_validation, predictions))\n",
    "\n",
    "proba_train_predictions = model.predict_proba(x_train)[:,1]\n",
    "proba_predictions = model.predict_proba(x_validation)[:,1]\n",
    "roc_auc_score(y_validation, proba_predictions, average='weighted')\n",
    "\n",
    "# Print the log loss metric\n",
    "\n",
    "print(\"Log loss for Training data: \", log_loss(y_train, proba_train_predictions))\n",
    "print(\"Log loss for Validation data: \", log_loss(y_validation, proba_predictions))\n",
    "\n",
    "fpr, tpr, threshold = roc_curve(y_validation, proba_predictions)\n",
    "\n",
    "# Calculating the AUC Score\n",
    "auc = np.trapz(tpr,fpr)\n",
    "pltTitle = print(\"\\nAUROC Plot from Logistic Regression:\", \"%.4f\" %auc)\n",
    "\n",
    "# Plotting the ROC Curve\n",
    "plt.plot(fpr,tpr)\n",
    "plt.title(pltTitle)\n",
    "plt.show()"
   ]
  },
  {
   "cell_type": "code",
   "execution_count": 11,
   "metadata": {},
   "outputs": [
    {
     "name": "stdout",
     "output_type": "stream",
     "text": [
      "Confustion Matrix for Training Data - Logistic Regression\n",
      "[[66  9]\n",
      " [ 8 52]]\n",
      "Confustion Matrix for Test Data - Logistic Regression\n",
      "[[15 10]\n",
      " [ 4 16]]\n",
      "Classification Report for Training Data - Logistic Regression\n",
      "              precision    recall  f1-score   support\n",
      "\n",
      "           0       0.89      0.88      0.89        75\n",
      "           1       0.85      0.87      0.86        60\n",
      "\n",
      "   micro avg       0.87      0.87      0.87       135\n",
      "   macro avg       0.87      0.87      0.87       135\n",
      "weighted avg       0.87      0.87      0.87       135\n",
      "\n",
      "Classification Report for Test Data - Logistic Regression\n",
      "              precision    recall  f1-score   support\n",
      "\n",
      "           0       0.79      0.60      0.68        25\n",
      "           1       0.62      0.80      0.70        20\n",
      "\n",
      "   micro avg       0.69      0.69      0.69        45\n",
      "   macro avg       0.70      0.70      0.69        45\n",
      "weighted avg       0.71      0.69      0.69        45\n",
      "\n",
      "Log loss for Training data:  0.6432777233962298\n",
      "Log loss for Validation data:  1.1871042481681502\n",
      "\n",
      "AUROC Plot from Guassian NB: 0.8600\n"
     ]
    },
    {
     "data": {
      "image/png": "[encoded data removed]",
      "text/plain": [
       "<Figure size 432x288 with 1 Axes>"
      ]
     },
     "metadata": {
      "needs_background": "light"
     },
     "output_type": "display_data"
    }
   ],
   "source": [
    "# Running a Naive Bayes Guassian Model:\n",
    "# Guassian model because the predictors follow a Normal Distribution\n",
    "\n",
    "from sklearn.naive_bayes import GaussianNB\n",
    "model = GaussianNB()\n",
    "\n",
    "# Training the model using the training data\n",
    "\n",
    "model.fit(x_train, y_train)\n",
    "train_predictions = model.predict(x_train)\n",
    "predictions = model.predict(x_validation)\n",
    "\n",
    "# Accuracy Metrics\n",
    "\n",
    "from sklearn.metrics import confusion_matrix\n",
    "from sklearn.metrics import classification_report\n",
    "from sklearn.metrics import accuracy_score\n",
    "from sklearn.metrics import roc_auc_score\n",
    "from sklearn.metrics import roc_curve\n",
    "\n",
    "# Confusion Matrix Comparison\n",
    "print(\"Confustion Matrix for Training Data - Logistic Regression\")\n",
    "print(confusion_matrix(y_train, train_predictions))\n",
    "print(\"Confustion Matrix for Test Data - Logistic Regression\")\n",
    "print(confusion_matrix(y_validation, predictions))\n",
    "\n",
    "# Classification Report Comparison\n",
    "print(\"Classification Report for Training Data - Logistic Regression\")\n",
    "print(classification_report(y_train, train_predictions))\n",
    "print(\"Classification Report for Test Data - Logistic Regression\")\n",
    "print(classification_report(y_validation, predictions))\n",
    "\n",
    "proba_train_predictions = model.predict_proba(x_train)[:,1]\n",
    "proba_predictions = model.predict_proba(x_validation)[:,1]\n",
    "roc_auc_score(y_validation, proba_predictions, average='weighted')\n",
    "\n",
    "# Print the log loss metric\n",
    "\n",
    "print(\"Log loss for Training data: \", log_loss(y_train, proba_train_predictions))\n",
    "print(\"Log loss for Validation data: \", log_loss(y_validation, proba_predictions))\n",
    "\n",
    "fpr, tpr, threshold = roc_curve(y_validation, proba_predictions)\n",
    "\n",
    "# Calculating the AUC Score\n",
    "auc = np.trapz(tpr,fpr)\n",
    "pltTitle = print(\"\\nAUROC Plot from Guassian NB:\", \"%.4f\" %auc)\n",
    "\n",
    "# Plotting the ROC Curve\n",
    "plt.plot(fpr,tpr)\n",
    "plt.title(pltTitle)\n",
    "plt.show()"
   ]
  },
  {
   "cell_type": "code",
   "execution_count": 12,
   "metadata": {},
   "outputs": [],
   "source": [
    "# # Pushing the repo to git\n",
    "\n",
    "# ! cd \"C:\\\\Users\\\\sivac\\\\Documents\\\\Python Projects\\\\Driven Data\\\\Predicting Heart Disease\"\n",
    "\n",
    "# ! git add .\n",
    "# ! git commit -am \"Added new base file\"\n",
    "# ! git push"
   ]
  }
 ],
 "metadata": {
  "kernelspec": {
   "display_name": "Python 3",
   "language": "python",
   "name": "python3"
  },
  "language_info": {
   "codemirror_mode": {
    "name": "ipython",
    "version": 3
   },
   "file_extension": ".py",
   "mimetype": "text/x-python",
   "name": "python",
   "nbconvert_exporter": "python",
   "pygments_lexer": "ipython3",
   "version": "3.7.3"
  }
 },
 "nbformat": 4,
 "nbformat_minor": 2
}
