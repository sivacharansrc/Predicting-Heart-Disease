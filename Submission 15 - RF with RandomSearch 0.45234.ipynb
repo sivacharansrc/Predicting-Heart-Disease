{
 "cells": [
  {
   "cell_type": "code",
   "execution_count": 1,
   "metadata": {},
   "outputs": [],
   "source": [
    "# Importing necessary libraries\n",
    "\n",
    "import pandas as pd\n",
    "pd.set_option('display.max_rows', 100)\n",
    "pd.set_option('display.max_columns', 100)\n",
    "pd.set_option('expand_frame_repr', False)\n",
    "\n",
    "import numpy as np\n",
    "import matplotlib.pyplot as plt\n",
    "%matplotlib inline\n",
    "import seaborn as sns\n",
    "sns.set_palette(\"cubehelix\") # Other palettes: \"Set2\", \"husl\", \"cubehelix\", \"hls\""
   ]
  },
  {
   "cell_type": "code",
   "execution_count": 2,
   "metadata": {},
   "outputs": [],
   "source": [
    "# Reading the input file\n",
    "\n",
    "import os\n",
    "cwd = os.getcwd()\n",
    "\n",
    "train_values = cwd + \"\\\\Source Data\\\\train_values.csv\"\n",
    "train_values = pd.read_csv(train_values)\n",
    "train_labels = cwd + \"\\\\Source Data\\\\train_labels.csv\"\n",
    "train_labels = pd.read_csv(train_labels)\n",
    "\n",
    "test_values = cwd + \"\\\\Source Data\\\\test_values.csv\"\n",
    "test_values = pd.read_csv(test_values)\n",
    "test_id = test_values.patient_id\n",
    "test = test_values.drop('patient_id', axis=1)\n",
    "\n",
    "train = train_values.join(train_labels.set_index('patient_id'), on='patient_id', how='left')"
   ]
  },
  {
   "cell_type": "code",
   "execution_count": 3,
   "metadata": {},
   "outputs": [],
   "source": [
    "# Data Prep\n",
    "\n",
    "y = train['heart_disease_present']\n",
    "x = train.drop(['heart_disease_present', 'patient_id'], axis=1)"
   ]
  },
  {
   "cell_type": "code",
   "execution_count": 4,
   "metadata": {},
   "outputs": [
    {
     "data": {
      "text/plain": [
       "slope_of_peak_exercise_st_segment         int64\n",
       "thal                                     object\n",
       "resting_blood_pressure                    int64\n",
       "chest_pain_type                           int64\n",
       "num_major_vessels                         int64\n",
       "fasting_blood_sugar_gt_120_mg_per_dl      int64\n",
       "resting_ekg_results                       int64\n",
       "serum_cholesterol_mg_per_dl               int64\n",
       "oldpeak_eq_st_depression                float64\n",
       "sex                                       int64\n",
       "age                                       int64\n",
       "max_heart_rate_achieved                   int64\n",
       "exercise_induced_angina                   int64\n",
       "dtype: object"
      ]
     },
     "execution_count": 4,
     "metadata": {},
     "output_type": "execute_result"
    }
   ],
   "source": [
    "x.dtypes"
   ]
  },
  {
   "cell_type": "code",
   "execution_count": 5,
   "metadata": {},
   "outputs": [],
   "source": [
    "# Select the columns to include\n",
    "\n",
    "cols_to_include = list(x.columns)\n",
    "\n",
    "cols_to_include = ['int64', 'float64']\n",
    "x = x.select_dtypes(include=cols_to_include)\n",
    "test = test.select_dtypes(include=cols_to_include)\n"
   ]
  },
  {
   "cell_type": "code",
   "execution_count": 6,
   "metadata": {},
   "outputs": [],
   "source": [
    "# Generating dummies\n",
    "\n",
    "x_rows = x.shape[0]\n",
    "df = x.append(test)\n",
    "\n",
    "df = pd.get_dummies(df, drop_first=True)\n",
    "\n",
    "x = df.iloc[:x_rows,]\n",
    "test = df.iloc[x_rows:,]\n"
   ]
  },
  {
   "cell_type": "markdown",
   "metadata": {},
   "source": [
    "# Random Search Optimizer for Random Forest"
   ]
  },
  {
   "cell_type": "code",
   "execution_count": 9,
   "metadata": {},
   "outputs": [
    {
     "data": {
      "text/plain": [
       "{'kernel': ['linear', 'poly'],\n",
       " 'C': [0.5, 1, 10, 20, 50],\n",
       " 'decision_function_shape': ['ovo', 'ovr'],\n",
       " 'gamma': [1, 5, 30, 50, 100]}"
      ]
     },
     "execution_count": 9,
     "metadata": {},
     "output_type": "execute_result"
    }
   ],
   "source": [
    "# Creating a Random Grid\n",
    "\n",
    "from sklearn.model_selection import RandomizedSearchCV\n",
    "from pprint import pprint\n",
    "# model = (n_estimators=500, criterion='gini', max_depth=25, min_samples_leaf=5, oob_score=True, n_jobs=-1, random_state=10)\n",
    "\n",
    "# Number of trees in random forest\n",
    "n_estimators = [int(x) for x in np.linspace(start=50, stop=200, num=20)]\n",
    "\n",
    "# Number of features to consider at every split (For max_features we can also consider sqrt or auto)\n",
    "max_features = [int(x) for x in np.linspace(start= np.int(len(x.columns)/10),\n",
    "                                            stop= np.int(len(x.columns)/2), num=6)]\n",
    "# The split criterion\n",
    "criterion = ['gini', 'entropy']\n",
    "\n",
    "# Maximum number of levels in tree\n",
    "max_depth = [int(x) for x in np.linspace(5, 15, num = 10)]\n",
    "\n",
    "# Minimum number of samples required to split a node\n",
    "min_samples_split = [4,5,6,7,10,13]\n",
    "\n",
    "# Minimum number of samples required at each leaf node\n",
    "min_samples_leaf = [2,3,4,5,6,8]\n",
    "\n",
    "# Method of selecting samples for training each tree\n",
    "bootstrap = [True, False]\n",
    "\n",
    "# Maximum number of levels in tree\n",
    "max_features = [3,4,5,6,7,8]\n",
    "\n",
    "# Create the random grid\n",
    "random_grid = {'n_estimators': n_estimators,\n",
    "               'max_features': max_features,\n",
    "               'criterion': criterion,\n",
    "               'max_depth': max_depth,\n",
    "               'min_samples_split': min_samples_split,\n",
    "               'min_samples_leaf': min_samples_leaf,\n",
    "               'bootstrap': bootstrap}\n",
    "\n",
    "# random_grid"
   ]
  },
  {
   "cell_type": "code",
   "execution_count": 8,
   "metadata": {},
   "outputs": [
    {
     "data": {
      "text/plain": [
       "['accuracy',\n",
       " 'adjusted_mutual_info_score',\n",
       " 'adjusted_rand_score',\n",
       " 'average_precision',\n",
       " 'balanced_accuracy',\n",
       " 'brier_score_loss',\n",
       " 'completeness_score',\n",
       " 'explained_variance',\n",
       " 'f1',\n",
       " 'f1_macro',\n",
       " 'f1_micro',\n",
       " 'f1_samples',\n",
       " 'f1_weighted',\n",
       " 'fowlkes_mallows_score',\n",
       " 'homogeneity_score',\n",
       " 'mutual_info_score',\n",
       " 'neg_log_loss',\n",
       " 'neg_mean_absolute_error',\n",
       " 'neg_mean_squared_error',\n",
       " 'neg_mean_squared_log_error',\n",
       " 'neg_median_absolute_error',\n",
       " 'normalized_mutual_info_score',\n",
       " 'precision',\n",
       " 'precision_macro',\n",
       " 'precision_micro',\n",
       " 'precision_samples',\n",
       " 'precision_weighted',\n",
       " 'r2',\n",
       " 'recall',\n",
       " 'recall_macro',\n",
       " 'recall_micro',\n",
       " 'recall_samples',\n",
       " 'recall_weighted',\n",
       " 'roc_auc',\n",
       " 'v_measure_score']"
      ]
     },
     "execution_count": 8,
     "metadata": {},
     "output_type": "execute_result"
    }
   ],
   "source": [
    "import sklearn\n",
    "sorted(sklearn.metrics.SCORERS.keys())"
   ]
  },
  {
   "cell_type": "code",
   "execution_count": null,
   "metadata": {},
   "outputs": [
    {
     "name": "stdout",
     "output_type": "stream",
     "text": [
      "Fitting 3 folds for each of 100 candidates, totalling 300 fits\n"
     ]
    },
    {
     "name": "stderr",
     "output_type": "stream",
     "text": [
      "[Parallel(n_jobs=-1)]: Using backend LokyBackend with 8 concurrent workers.\n",
      "[Parallel(n_jobs=-1)]: Done   2 tasks      | elapsed:   31.7s\n",
      "[Parallel(n_jobs=-1)]: Done   9 tasks      | elapsed:   50.3s\n"
     ]
    }
   ],
   "source": [
    "# Performing the Random Search\n",
    "\n",
    "# Use the random grid to search for best hyperparameters\n",
    "# Let us use the base model \"model\" that is already created to tune the model against\n",
    "from sklearn.ensemble import RandomForestClassifier\n",
    "model = RandomForestClassifier()\n",
    "# Random search of parameters, using 5 fold cross validation, \n",
    "# search across 100 different combinations, and use all available cores\n",
    "model_random = RandomizedSearchCV(estimator = model, \n",
    "                                  param_distributions = random_grid, \n",
    "                                  n_iter = 100, cv = 3, scoring='neg_log_loss', verbose=100, random_state=42)\n",
    "# Fit the random search model\n",
    "model_random.fit(x, y)"
   ]
  },
  {
   "cell_type": "code",
   "execution_count": null,
   "metadata": {},
   "outputs": [],
   "source": [
    "model_random.best_params_"
   ]
  },
  {
   "cell_type": "code",
   "execution_count": 38,
   "metadata": {},
   "outputs": [],
   "source": [
    "# Performing the Train Test Split\n",
    "\n",
    "from sklearn.model_selection import train_test_split\n",
    "x_train, x_validation, y_train, y_validation = train_test_split(x,y, \n",
    "                                                                stratify=y, \n",
    "                                                                random_state=1, \n",
    "                                                                test_size=0.25)"
   ]
  },
  {
   "cell_type": "code",
   "execution_count": 39,
   "metadata": {},
   "outputs": [
    {
     "name": "stdout",
     "output_type": "stream",
     "text": [
      "Confustion Matrix for Training Data - Logistic Regression\n",
      "[[75  0]\n",
      " [ 0 60]]\n",
      "Confustion Matrix for Test Data - Logistic Regression\n",
      "[[16  9]\n",
      " [ 3 17]]\n",
      "Classification Report for Training Data - Logistic Regression\n",
      "              precision    recall  f1-score   support\n",
      "\n",
      "           0       1.00      1.00      1.00        75\n",
      "           1       1.00      1.00      1.00        60\n",
      "\n",
      "   micro avg       1.00      1.00      1.00       135\n",
      "   macro avg       1.00      1.00      1.00       135\n",
      "weighted avg       1.00      1.00      1.00       135\n",
      "\n",
      "Classification Report for Test Data - Logistic Regression\n",
      "              precision    recall  f1-score   support\n",
      "\n",
      "           0       0.84      0.64      0.73        25\n",
      "           1       0.65      0.85      0.74        20\n",
      "\n",
      "   micro avg       0.73      0.73      0.73        45\n",
      "   macro avg       0.75      0.74      0.73        45\n",
      "weighted avg       0.76      0.73      0.73        45\n",
      "\n",
      "Log loss for Training data:  0.10221442676494231\n",
      "Log loss for Validation data:  0.511706628080196\n",
      "\n",
      "AUROC Plot from Logistic Regression: 0.8360\n"
     ]
    },
    {
     "data": {
      "image/png": "[encoded data removed]",
      "text/plain": [
       "<Figure size 432x288 with 1 Axes>"
      ]
     },
     "metadata": {
      "needs_background": "light"
     },
     "output_type": "display_data"
    }
   ],
   "source": [
    "# Running the Random Forest Classifier using the best estimator\n",
    "\n",
    "model = model_random.best_estimator_\n",
    "model.fit(x_train, y_train)\n",
    "train_predictions = model.predict(x_train)\n",
    "predictions = model.predict(x_validation)\n",
    "\n",
    "# Accuracy Metrics\n",
    "\n",
    "from sklearn.metrics import confusion_matrix\n",
    "from sklearn.metrics import classification_report\n",
    "from sklearn.metrics import log_loss\n",
    "from sklearn.metrics import roc_auc_score\n",
    "from sklearn.metrics import roc_curve\n",
    "\n",
    "# Confusion Matrix Comparison\n",
    "print(\"Confustion Matrix for Training Data - Logistic Regression\")\n",
    "print(confusion_matrix(y_train, train_predictions))\n",
    "print(\"Confustion Matrix for Test Data - Logistic Regression\")\n",
    "print(confusion_matrix(y_validation, predictions))\n",
    "\n",
    "# Classification Report Comparison\n",
    "print(\"Classification Report for Training Data - Logistic Regression\")\n",
    "print(classification_report(y_train, train_predictions))\n",
    "print(\"Classification Report for Test Data - Logistic Regression\")\n",
    "print(classification_report(y_validation, predictions))\n",
    "\n",
    "proba_train_predictions = model.predict_proba(x_train)[:,1]\n",
    "proba_predictions = model.predict_proba(x_validation)[:,1]\n",
    "roc_auc_score(y_validation, proba_predictions, average='weighted')\n",
    "\n",
    "# Print the log loss metric\n",
    "\n",
    "print(\"Log loss for Training data: \", log_loss(y_train, proba_train_predictions))\n",
    "print(\"Log loss for Validation data: \", log_loss(y_validation, proba_predictions))\n",
    "\n",
    "fpr, tpr, threshold = roc_curve(y_validation, proba_predictions)\n",
    "\n",
    "# Calculating the AUC Score\n",
    "auc = np.trapz(tpr,fpr)\n",
    "pltTitle = print(\"\\nAUROC Plot from Logistic Regression:\", \"%.4f\" %auc)\n",
    "\n",
    "# Plotting the ROC Curve\n",
    "plt.plot(fpr,tpr)\n",
    "plt.title(pltTitle)\n",
    "plt.show()"
   ]
  },
  {
   "cell_type": "code",
   "execution_count": 40,
   "metadata": {},
   "outputs": [],
   "source": [
    "# Generating output using Logistic Regression without normalizing the data\n",
    "\n",
    "proba_test_predictions = model.predict_proba(test)[:,1]\n",
    "\n",
    "output = pd.DataFrame({'patient_id': test_id, 'heart_disease_present':proba_test_predictions})\n",
    "output.to_csv(cwd + \"\\\\Output Data\\\\Submission 15 - RF with RandomSearch logloss 0.5117.csv\", index=False)"
   ]
  },
  {
   "cell_type": "code",
   "execution_count": 41,
   "metadata": {},
   "outputs": [
    {
     "name": "stderr",
     "output_type": "stream",
     "text": [
      "warning: LF will be replaced by CRLF in Submission 13 - Logistic Regression LB 0.397.ipynb.\n",
      "The file will have its original line endings in your working directory.\n",
      "warning: LF will be replaced by CRLF in .ipynb_checkpoints/Submission 15 - RF with RandomSearch 0.45234-checkpoint.ipynb.\n",
      "The file will have its original line endings in your working directory.\n",
      "warning: LF will be replaced by CRLF in Submission 15 - RF with RandomSearch 0.45234.ipynb.\n",
      "The file will have its original line endings in your working directory.\n"
     ]
    },
    {
     "name": "stdout",
     "output_type": "stream",
     "text": [
      "[master 643a86d] Submission 15 - RF with RandomSearch 0.45234\n",
      " 4 files changed, 2408 insertions(+), 7 deletions(-)\n",
      " create mode 100644 .ipynb_checkpoints/Submission 15 - RF with RandomSearch 0.45234-checkpoint.ipynb\n",
      " create mode 100644 Output Data/Submission 15 - RF with RandomSearch logloss 0.5117.csv\n",
      " create mode 100644 Submission 15 - RF with RandomSearch 0.45234.ipynb\n"
     ]
    },
    {
     "name": "stderr",
     "output_type": "stream",
     "text": [
      "To https://github.com/sivacharansrc/Predicting-Heart-Disease.git\n",
      "   8cf5979..643a86d  master -> master\n"
     ]
    }
   ],
   "source": [
    "# # Pushing the repo to git\n",
    "\n",
    "# ! cd \"C:\\\\Users\\\\sivac\\\\Documents\\\\Python Projects\\\\Driven Data\\\\Predicting Heart Disease\"\n",
    "\n",
    "# ! git add .\n",
    "# ! git commit -am \"Submission 15 - RF with RandomSearch 0.45234\"\n",
    "# ! git push"
   ]
  }
 ],
 "metadata": {
  "kernelspec": {
   "display_name": "Python 3",
   "language": "python",
   "name": "python3"
  },
  "language_info": {
   "codemirror_mode": {
    "name": "ipython",
    "version": 3
   },
   "file_extension": ".py",
   "mimetype": "text/x-python",
   "name": "python",
   "nbconvert_exporter": "python",
   "pygments_lexer": "ipython3",
   "version": "3.7.3"
  }
 },
 "nbformat": 4,
 "nbformat_minor": 2
}
