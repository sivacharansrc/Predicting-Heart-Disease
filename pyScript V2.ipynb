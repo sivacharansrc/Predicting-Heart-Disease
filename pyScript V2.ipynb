{
 "cells": [
  {
   "cell_type": "code",
   "execution_count": 1,
   "metadata": {},
   "outputs": [],
   "source": [
    "# Importing necessary libraries\n",
    "\n",
    "import pandas as pd\n",
    "pd.set_option('display.max_rows', 100)\n",
    "pd.set_option('display.max_columns', 100)\n",
    "pd.set_option('expand_frame_repr', False)\n",
    "\n",
    "import numpy as np\n",
    "import matplotlib.pyplot as plt\n",
    "%matplotlib inline\n",
    "import seaborn as sns\n",
    "\n",
    "#import xgboost as xgb\n",
    "from xgboost.sklearn import XGBClassifier\n",
    "from sklearn import metrics\n",
    "from sklearn.metrics import roc_auc_score\n",
    "from sklearn.model_selection import GridSearchCV, cross_validate"
   ]
  },
  {
   "cell_type": "code",
   "execution_count": 2,
   "metadata": {},
   "outputs": [],
   "source": [
    "# Reading the input file\n",
    "\n",
    "import os\n",
    "cwd = os.getcwd()\n",
    "\n",
    "train_values = cwd + \"\\\\Source Data\\\\train_values.csv\"\n",
    "train_values = pd.read_csv(train_values)\n",
    "train_labels = cwd + \"\\\\Source Data\\\\train_labels.csv\"\n",
    "train_labels = pd.read_csv(train_labels)\n",
    "\n",
    "test_values = cwd + \"\\\\Source Data\\\\test_values.csv\"\n",
    "test_values = pd.read_csv(test_values)\n",
    "test_id = test_values.patient_id\n",
    "test = test_values.drop('patient_id', axis=1)\n",
    "\n",
    "train = train_values.join(train_labels.set_index('patient_id'), on='patient_id', how='left')"
   ]
  },
  {
   "cell_type": "code",
   "execution_count": 3,
   "metadata": {},
   "outputs": [],
   "source": [
    "# Data Prep\n",
    "\n",
    "re_categorize_values = {\"chest_pain_type\": {1: \"one\", 2: \"two\", 3: \"three\", 4: \"four\"},\n",
    "                       \"fasting_blood_sugar_gt_120_mg_per_dl\": {0: \"Less than 120\", 1: \"Greater than 120\"},\n",
    "                       \"resting_ekg_results\": {1: \"one\", 2: \"two\", 0: \"zero\"},\n",
    "                       \"sex\": {0: \"female\", 1: \"male\"},\n",
    "                       \"exercise_induced_angina\": {0: \"No\", 1: \"Yes\"}}\n",
    "\n",
    "train.replace(re_categorize_values, inplace=True)\n",
    "test.replace(re_categorize_values, inplace=True)\n",
    "\n",
    "y = train['heart_disease_present']\n",
    "x = train.drop(['heart_disease_present', 'patient_id'], axis=1)"
   ]
  },
  {
   "cell_type": "code",
   "execution_count": 4,
   "metadata": {},
   "outputs": [
    {
     "data": {
      "text/plain": [
       "<matplotlib.axes._subplots.AxesSubplot at 0x267120f0b00>"
      ]
     },
     "execution_count": 4,
     "metadata": {},
     "output_type": "execute_result"
    },
    {
     "data": {
      "image/png": "[encoded data removed]",
      "text/plain": [
       "<Figure size 432x288 with 1 Axes>"
      ]
     },
     "metadata": {
      "needs_background": "light"
     },
     "output_type": "display_data"
    }
   ],
   "source": [
    "# Analyzing the train data\n",
    "\n",
    "# train.isna().sum() # There are no missing values\n",
    "\n",
    "# Checking the class imbalance\n",
    "\n",
    "sns.countplot(train['heart_disease_present'], palette='dark')\n",
    "\n",
    "# There is not much class imbalance. We may not need any over or under sampling"
   ]
  },
  {
   "cell_type": "code",
   "execution_count": null,
   "metadata": {},
   "outputs": [],
   "source": [
    "train['heart_disease_present'].value_counts()"
   ]
  },
  {
   "cell_type": "code",
   "execution_count": null,
   "metadata": {},
   "outputs": [],
   "source": [
    "def generate_count_plots(x,y):\n",
    "    import seaborn as sns\n",
    "    import pandas as pd\n",
    "    import numpy as np\n",
    "    import matplotlib.pyplot as plt\n",
    "    %matplotlib inline\n",
    "    \n",
    "    new_df = x.select_dtypes(include='object')\n",
    "    total_cols = new_df.shape[1]\n",
    "    item_counter = total_cols - 1\n",
    "    \n",
    "    # Generating the number of rows required\n",
    "    \n",
    "    rows = total_cols // 3\n",
    "    remainder = total_cols%3\n",
    "    \n",
    "    if remainder != 0:\n",
    "        rows = rows + 1\n",
    "    \n",
    "    # Generating code for the plots\n",
    "    \n",
    "    breadth = rows * 5\n",
    "    plt.figure(figsize=(20,breadth))\n",
    "    for i in range(total_cols):\n",
    "        x_col = new_df.iloc[:,i]\n",
    "        plt.subplot(rows, 3, i+1)\n",
    "        sns.countplot(x_col, hue=y, palette='dark', dodge=True) # Try dodge=False for stacking, but numbers dont look right\n",
    "        \n",
    "    plt.show()\n",
    "\n",
    "generate_count_plots(x,y)"
   ]
  },
  {
   "cell_type": "markdown",
   "metadata": {},
   "source": [
    "From the above charts, there is a possibility that people that are male sex, and have type four chest pain type, and \n",
    "reversable defect thal, and exercise induced angina have high changes of having heart diseases"
   ]
  },
  {
   "cell_type": "code",
   "execution_count": null,
   "metadata": {
    "scrolled": true
   },
   "outputs": [],
   "source": [
    "def generate_violin_plots(x,y):\n",
    "    import seaborn as sns\n",
    "    import pandas as pd\n",
    "    import numpy as np\n",
    "    import matplotlib.pyplot as plt\n",
    "    %matplotlib inline\n",
    "    \n",
    "    cols_to_include = ['int64', 'float64']\n",
    "    new_df = x.select_dtypes(include=cols_to_include)\n",
    "    total_cols = new_df.shape[1]\n",
    "    item_counter = total_cols - 1\n",
    "    \n",
    "    # Generating the number of rows required\n",
    "    \n",
    "    rows = total_cols // 2\n",
    "    remainder = total_cols%2\n",
    "    \n",
    "    if remainder != 0:\n",
    "        rows = rows + 1\n",
    "    \n",
    "    # Generating code for the plots\n",
    "    \n",
    "    breadth = rows * 5\n",
    "    plt.figure(figsize=(20,breadth))\n",
    "    for i in range(total_cols):\n",
    "        x_col = new_df.iloc[:,i]\n",
    "        plt.subplot(rows, 2, i+1)\n",
    "        sns.violinplot(y=x_col, x=y, palette='dark', inner='quartile')\n",
    "        \n",
    "    plt.show()\n",
    "\n",
    "generate_violin_plots(x,y)"
   ]
  },
  {
   "cell_type": "markdown",
   "metadata": {},
   "source": [
    "# Analysis:"
   ]
  },
  {
   "cell_type": "markdown",
   "metadata": {},
   "source": [
    "1. slope of peak exercise st segment: Heart disease is more pronounced with people having slope 2 or greater\n",
    "2. Resting blood pressure does not have much effect on heart disease (interesting)\n",
    "3. Number of major vessels greater than 0 are more likely to get heart disease\n",
    "4. Serum cholesterol does not have much effect\n",
    "5. Oldpeak_eq_st_depression: Greater than 0 is more likely to get heart disease\n",
    "6. Age between 50 to 70 more likely to have heart disease\n",
    "7. Maximum heart rate achieved: Less than 140 may have higher chance of heart disease (see if the max heart rate achieved has any relation to age i.e. compare the distribution by age)"
   ]
  },
  {
   "cell_type": "code",
   "execution_count": null,
   "metadata": {
    "scrolled": true
   },
   "outputs": [],
   "source": [
    "def generate_box_plots(x,y):\n",
    "    import seaborn as sns\n",
    "    import pandas as pd\n",
    "    import numpy as np\n",
    "    import matplotlib.pyplot as plt\n",
    "    %matplotlib inline\n",
    "    \n",
    "    cols_to_include =  ['int64', 'float64']\n",
    "    new_df = x.select_dtypes(include=cols_to_include)\n",
    "    total_cols = new_df.shape[1]\n",
    "    item_counter = total_cols - 1\n",
    "    \n",
    "    # Generating the number of rows required\n",
    "    \n",
    "    rows = total_cols // 2\n",
    "    remainder = total_cols%2\n",
    "    \n",
    "    if remainder != 0:\n",
    "        rows = rows + 1\n",
    "    \n",
    "    # Generating code for the plots\n",
    "    #color_item = x['sex']\n",
    "    breadth = rows * 5\n",
    "    plt.figure(figsize=(20,breadth))\n",
    "    for i in range(total_cols):\n",
    "        x_col = new_df.iloc[:,i]\n",
    "        plt.subplot(rows, 2, i+1)\n",
    "        sns.boxplot(y=x_col, x=y, palette='dark')\n",
    "        #sns.boxplot(y=x_col, x=y, palette='dark', hue=color_item)\n",
    "    plt.show()\n",
    "\n",
    "generate_box_plots(x,y)"
   ]
  },
  {
   "cell_type": "markdown",
   "metadata": {},
   "source": [
    "# Fixing Outliers"
   ]
  },
  {
   "cell_type": "code",
   "execution_count": 5,
   "metadata": {},
   "outputs": [],
   "source": [
    "# Fixing outliers for the resting blood pressure\n",
    "uplimit = (1.5 * (x.resting_blood_pressure.quantile(0.75) - x.resting_blood_pressure.quantile(0.25))) + x.resting_blood_pressure.quantile(0.75)\n",
    "lowlimit =  x.resting_blood_pressure.quantile(0.25) - (1.5 * (x.resting_blood_pressure.quantile(0.75) - x.resting_blood_pressure.quantile(0.25)))\n",
    "median_value = x['resting_blood_pressure'].median()\n",
    "\n",
    "x['resting_blood_pressure'] = np.where((x.resting_blood_pressure > uplimit) | (x.resting_blood_pressure < lowlimit), median_value, x.resting_blood_pressure)\n",
    "test['resting_blood_pressure'] = np.where((test.resting_blood_pressure > uplimit) | (test.resting_blood_pressure < lowlimit), median_value, test.resting_blood_pressure)\n",
    "\n",
    "# Fixing outliers for the major num of vessels\n",
    "uplimit = (1.5 * (x.num_major_vessels.quantile(0.75) - x.num_major_vessels.quantile(0.25))) + x.num_major_vessels.quantile(0.75)\n",
    "lowlimit =  x.num_major_vessels.quantile(0.25) - (1.5 * (x.num_major_vessels.quantile(0.75) - x.num_major_vessels.quantile(0.25)))\n",
    "median_value = x['num_major_vessels'].median()\n",
    "\n",
    "x['num_major_vessels'] = np.where((x.num_major_vessels > uplimit) | (x.num_major_vessels < lowlimit), median_value, x.num_major_vessels)\n",
    "test['num_major_vessels'] = np.where((test.num_major_vessels > uplimit) | (test.num_major_vessels < lowlimit), median_value, test.num_major_vessels)\n",
    "\n",
    "# Fixing serum cholesterol mg per dl\n",
    "uplimit = (1.5 * (x.serum_cholesterol_mg_per_dl.quantile(0.75) - x.serum_cholesterol_mg_per_dl.quantile(0.25))) + x.serum_cholesterol_mg_per_dl.quantile(0.75)\n",
    "lowlimit =  x.serum_cholesterol_mg_per_dl.quantile(0.25) - (1.5 * (x.serum_cholesterol_mg_per_dl.quantile(0.75) - x.serum_cholesterol_mg_per_dl.quantile(0.25)))\n",
    "median_value = x['serum_cholesterol_mg_per_dl'].median()\n",
    "\n",
    "x['serum_cholesterol_mg_per_dl'] = np.where((x.serum_cholesterol_mg_per_dl > uplimit) | (x.serum_cholesterol_mg_per_dl < lowlimit), median_value, x.serum_cholesterol_mg_per_dl)\n",
    "test['serum_cholesterol_mg_per_dl'] = np.where((test.serum_cholesterol_mg_per_dl > uplimit) | (test.serum_cholesterol_mg_per_dl < lowlimit), median_value, test.serum_cholesterol_mg_per_dl)\n",
    "\n",
    "# Fixing old peak eq st depression\n",
    "uplimit = (1.5 * (x.oldpeak_eq_st_depression.quantile(0.75) - x.oldpeak_eq_st_depression.quantile(0.25))) + x.oldpeak_eq_st_depression.quantile(0.75)\n",
    "lowlimit =  x.oldpeak_eq_st_depression.quantile(0.25) - (1.5 * (x.oldpeak_eq_st_depression.quantile(0.75) - x.oldpeak_eq_st_depression.quantile(0.25)))\n",
    "median_value = x['oldpeak_eq_st_depression'].median()\n",
    "\n",
    "x['oldpeak_eq_st_depression'] = np.where((x.oldpeak_eq_st_depression > uplimit) | (x.oldpeak_eq_st_depression < lowlimit), median_value, x.oldpeak_eq_st_depression)\n",
    "test['oldpeak_eq_st_depression'] = np.where((test.oldpeak_eq_st_depression > uplimit) | (test.oldpeak_eq_st_depression < lowlimit), median_value, test.oldpeak_eq_st_depression)\n",
    "\n",
    "# Fixing max heart rate achieved\n",
    "uplimit = (1.5 * (x.max_heart_rate_achieved.quantile(0.75) - x.max_heart_rate_achieved.quantile(0.25))) + x.max_heart_rate_achieved.quantile(0.75)\n",
    "lowlimit =  x.max_heart_rate_achieved.quantile(0.25) - (1.5 * (x.max_heart_rate_achieved.quantile(0.75) - x.max_heart_rate_achieved.quantile(0.25)))\n",
    "median_value = x['max_heart_rate_achieved'].median()\n",
    "\n",
    "x['max_heart_rate_achieved'] = np.where((x.max_heart_rate_achieved > uplimit) | (x.max_heart_rate_achieved < lowlimit), median_value, x.max_heart_rate_achieved)\n",
    "test['max_heart_rate_achieved'] = np.where((test.max_heart_rate_achieved > uplimit) | (test.max_heart_rate_achieved < lowlimit), median_value, test.max_heart_rate_achieved)\n"
   ]
  },
  {
   "cell_type": "markdown",
   "metadata": {},
   "source": [
    "# Feature Engineering"
   ]
  },
  {
   "cell_type": "code",
   "execution_count": 6,
   "metadata": {},
   "outputs": [],
   "source": [
    "x['heart_risk'] = np.where(x.sex == 'male',0.25,0) + np.where(x.chest_pain_type == 'four',0.5,0) + np.where(x.exercise_induced_angina == 'Yes',0.5,0) + np.where(x.thal == 'reversible_defect',0.5,0) + np.where(x.slope_of_peak_exercise_st_segment >= 2,1,0) + np.where(x.num_major_vessels > 0, 1,0) + np.where(x.oldpeak_eq_st_depression > 0, 1,0) + np.where((x.age > 50) & (x.age < 70),0.5,0) + np.where(x.max_heart_rate_achieved < 140 , 1,0) \n",
    "test['heart_risk'] = np.where(test.sex == 'male',0.25,0) + np.where(test.chest_pain_type == 'four',0.5,0) + np.where(test.exercise_induced_angina == 'Yes',0.5,0) + np.where(test.thal == 'reversible_defect',0.5,0) + np.where(test.slope_of_peak_exercise_st_segment >= 2,1,0) + np.where(test.num_major_vessels > 0, 1,0) + np.where(test.oldpeak_eq_st_depression > 0, 1,0) + np.where((test.age > 50) & (test.age < 70),0.5,0) + np.where(test.max_heart_rate_achieved < 140 , 1,0) \n",
    "\n",
    "\n",
    "# exercise induced angina = Yes, and slope of peak = 3 is always heart disease present (6 obs)\n",
    "x['angina_and_slope_of_peak'] = np.where((x.exercise_induced_angina =='Yes') & \n",
    "                                         (x.slope_of_peak_exercise_st_segment==3),1,0)\n",
    "\n",
    "test['angina_and_slope_of_peak'] = np.where((test.exercise_induced_angina =='Yes') & \n",
    "                                         (test.slope_of_peak_exercise_st_segment==3),1,0)\n",
    "\n",
    "# exercise induced angina = Yes, chest pain type = four, and num major vessels = 2, heart dis always present (0 obs)\n",
    "x['angina_chestPain_numVessels'] = np.where((x.exercise_induced_angina =='Yes') & (x.chest_pain_type == 'four') &\n",
    "                                         (x.num_major_vessels==2),1,0)\n",
    "\n",
    "test['angina_chestPain_numVessels'] = np.where((test.exercise_induced_angina =='Yes') & (test.chest_pain_type == 'four') &\n",
    "                                         (test.num_major_vessels==2),1,0)\n",
    "\n",
    "# exercise induced angina = Yes, and num major vessels = 3, heart dis always present (0 obs)\n",
    "x['angina_numVessels'] = np.where((x.exercise_induced_angina =='Yes') &\n",
    "                                         (x.num_major_vessels==3),1,0)\n",
    "\n",
    "test['angina_numVessels'] = np.where((test.exercise_induced_angina =='Yes') &\n",
    "                                         (test.num_major_vessels==3),1,0)\n",
    "\n",
    "# sex = female, and num major vessels = 3, heart dis always present (3 obs)\n",
    "x['sex_numVessels'] = np.where((x.sex =='female') & (x.num_major_vessels==3),1,0)\n",
    "test['sex_numVessels'] = np.where((test.sex =='female') &(test.num_major_vessels==3),1,0)\n",
    "\n",
    "# max HR achieved < 146, and num major vessels = 3, heart dis always present (10 obs)\n",
    "x['maxHR_numVessels'] = np.where((x.max_heart_rate_achieved < 146) & (x.num_major_vessels==3),1,0)\n",
    "test['maxHR_numVessels'] = np.where((test.max_heart_rate_achieved < 146) &(test.num_major_vessels==3),1,0)\n",
    "\n",
    "# thal=normal, and num major vessels in 0&1, chest pain type =2, heart dis never present (19 obs)\n",
    "x['thal_numVessels_chestPain'] = np.where((x.thal=='normal') & (x.num_major_vessels.isin([0,1])) &\n",
    "                                          (x.chest_pain_type=='two') ,1,0)\n",
    "test['thal_numVessels_chestPain'] = np.where((test.thal=='normal') & (test.num_major_vessels.isin([0,1])) &\n",
    "                                          (test.chest_pain_type=='two') ,1,0)\n",
    "\n",
    "# thal=reversible_defect, and slope of peak.. =2 , chest pain type =4, and max HR > 105 heart dis always present (25 obs)\n",
    "x['thal_slope_chestPain_maxHR'] = np.where((x.thal=='reversible_defect') & (x.max_heart_rate_achieved > 105 ) &\n",
    "                                          (x.chest_pain_type=='four') & (x.slope_of_peak_exercise_st_segment==2) ,1,0)\n",
    "test['thal_slope_chestPain_maxHR'] = np.where((test.thal=='reversible_defect') & (test.max_heart_rate_achieved > 105) &\n",
    "                                          (test.chest_pain_type=='four') & (test.slope_of_peak_exercise_st_segment==2) ,1,0)\n",
    "\n",
    "# resting ekg = two, thal = reversible defect, and num major vessels in 1 & 3 heart dis always present (12 obs)\n",
    "x['restEkg_thal_numVessels'] = np.where((x.thal=='reversible_defect') & (x.resting_ekg_results=='two' ) &\n",
    "                                          (x.num_major_vessels.isin([1,3])),1,0)\n",
    "test['restEkg_thal_numVessels'] = np.where((test.thal=='reversible_defect') & (test.resting_ekg_results=='two' ) &\n",
    "                                          (test.num_major_vessels.isin([1,3])),1,0)\n",
    "\n",
    "# slope of peak = 1, sex=female, chest pain = four and num major vessels in 1 & 0 heart dis never present (21 obs)\n",
    "x['slope_sex_chestPain_numVessels'] = np.where((x.slope_of_peak_exercise_st_segment==1) &\n",
    "                                        (x.sex=='female' ) & (x.num_major_vessels.isin([1,0])) &\n",
    "                                        (x.chest_pain_type=='four'),1,0)\n",
    "\n",
    "test['slope_sex_chestPain_numVessels'] = np.where((test.slope_of_peak_exercise_st_segment==1) &\n",
    "                                        (test.sex=='female' ) & (test.num_major_vessels.isin([1,0])) &\n",
    "                                        (test.chest_pain_type=='four'),1,0)\n",
    "\n",
    "# major vessels in 2 & 3, exercise induced =1, and chest pain = four heart dis always present (15 obs)\n",
    "x['numVessels_angina_chestPain'] = np.where((x.num_major_vessels.isin([2,3])) &\n",
    "                                        (x.exercise_induced_angina=='Yes') & (x.chest_pain_type=='four'),1,0)\n",
    "\n",
    "test['numVessels_angina_chestPain'] = np.where((test.num_major_vessels.isin([2,3])) &\n",
    "                                        (test.exercise_induced_angina=='Yes') & (test.chest_pain_type=='four'),1,0)"
   ]
  },
  {
   "cell_type": "code",
   "execution_count": 7,
   "metadata": {},
   "outputs": [],
   "source": [
    "# Removing the thal column\n",
    "\n",
    "x.drop('thal', axis=1, inplace=True)\n",
    "test.drop('thal', axis=1, inplace=True)"
   ]
  },
  {
   "cell_type": "code",
   "execution_count": null,
   "metadata": {},
   "outputs": [],
   "source": [
    "# # Export the feature engineered dataset for validation\n",
    "\n",
    "# validation_data = pd.concat([x,y],axis=1)\n",
    "# validation_data.to_csv(cwd + \"\\\\Output Data\\\\Validation_with_labels.csv\", index=False)"
   ]
  },
  {
   "cell_type": "code",
   "execution_count": null,
   "metadata": {},
   "outputs": [],
   "source": [
    "sns.boxplot(y=x['heart_risk'], x=y)"
   ]
  },
  {
   "cell_type": "code",
   "execution_count": 8,
   "metadata": {},
   "outputs": [],
   "source": [
    "x = pd.get_dummies(x)\n",
    "test = pd.get_dummies(test)"
   ]
  },
  {
   "cell_type": "code",
   "execution_count": null,
   "metadata": {},
   "outputs": [],
   "source": [
    "# # OVERSAMPLING TRAINING DATA\n",
    "# from imblearn.over_sampling import SMOTE\n",
    "\n",
    "# os = SMOTE(random_state=0)\n",
    "# columns = x_train.columns\n",
    "# x_train,y_train =os.fit_sample(x_train, y_train)\n",
    "# x_train = pd.DataFrame(data=x_train,columns=columns )\n",
    "# y_train= pd.DataFrame(data=y_train,columns=['target'])"
   ]
  },
  {
   "cell_type": "code",
   "execution_count": 9,
   "metadata": {},
   "outputs": [],
   "source": [
    "# Train and Validation Split\n",
    "\n",
    "from sklearn.model_selection import train_test_split\n",
    "x_train, x_validation, y_train, y_validation = train_test_split(x,y, stratify=y, random_state=1, test_size=0.25)"
   ]
  },
  {
   "cell_type": "markdown",
   "metadata": {},
   "source": [
    "# XGBOOST IMPLEMENTATION"
   ]
  },
  {
   "cell_type": "markdown",
   "metadata": {},
   "source": [
    "# Tuning the number of estimators"
   ]
  },
  {
   "cell_type": "code",
   "execution_count": 18,
   "metadata": {},
   "outputs": [
    {
     "data": {
      "image/png": "[encoded data removed]",
      "text/plain": [
       "<Figure size 432x288 with 1 Axes>"
      ]
     },
     "metadata": {
      "needs_background": "light"
     },
     "output_type": "display_data"
    },
    {
     "data": {
      "image/png": "[encoded data removed]",
      "text/plain": [
       "<Figure size 432x288 with 1 Axes>"
      ]
     },
     "metadata": {
      "needs_background": "light"
     },
     "output_type": "display_data"
    },
    {
     "data": {
      "image/png": "[encoded data removed]",
      "text/plain": [
       "<Figure size 432x288 with 1 Axes>"
      ]
     },
     "metadata": {
      "needs_background": "light"
     },
     "output_type": "display_data"
    }
   ],
   "source": [
    "model = XGBClassifier(\n",
    " learning_rate = 0.1,\n",
    " n_estimators=200,\n",
    " max_depth=3,\n",
    " min_child_weight=1,\n",
    " subsample=1,\n",
    " colsample_bytree=0.4,\n",
    " objective= 'binary:logistic',\n",
    " nthread=8,\n",
    " scale_pos_weight=1.25,\n",
    " reg_alpha=1,\n",
    " seed=11)\n",
    "\n",
    "\n",
    "eval_set = [(x_train, y_train), (x_validation, y_validation)]\n",
    "eval_metric = [\"auc\",\"logloss\", \"error\"]\n",
    "model.fit(x_train, y_train, eval_metric=eval_metric, eval_set=eval_set, verbose=False)\n",
    "\n",
    "#from matplotlib import pyplot\n",
    "# retrieve performance metrics\\n\n",
    "results = model.evals_result()\n",
    "epochs = len(results['validation_0']['error'])\n",
    "x_axis = range(0, epochs)\n",
    "\n",
    "# plot log loss\n",
    "\n",
    "fig, ax = plt.subplots()\n",
    "ax.plot(x_axis, results['validation_0']['logloss'], label='Train')\n",
    "ax.plot(x_axis, results['validation_1']['logloss'], label='Test')\n",
    "ax.legend()\n",
    "plt.ylabel('Log Loss')\n",
    "plt.title('XGBoost Log Loss')\n",
    "plt.show()\n",
    "# plot classification error\n",
    "\n",
    "fig, ax = plt.subplots()\n",
    "ax.plot(x_axis, results['validation_0']['error'], label='Train')\n",
    "ax.plot(x_axis, results['validation_1']['error'], label='Test')\n",
    "ax.legend()\n",
    "plt.ylabel('Classification Error')\n",
    "plt.title('XGBoost Classification Error')\n",
    "plt.show()\n",
    "\n",
    "# plot classification error\n",
    "\n",
    "fig, ax = plt.subplots()\n",
    "ax.plot(x_axis, results['validation_0']['auc'], label='Train')\n",
    "ax.plot(x_axis, results['validation_1']['auc'], label='Test')\n",
    "ax.legend()\n",
    "plt.ylabel('AUC Accuracy')\n",
    "plt.title('XGBoost Classification Error')\n",
    "plt.show()"
   ]
  },
  {
   "cell_type": "code",
   "execution_count": 19,
   "metadata": {},
   "outputs": [
    {
     "name": "stdout",
     "output_type": "stream",
     "text": [
      "\n",
      "Model Report\n",
      "\n",
      "Train Accuracy\n",
      "Accuracy : 0.9704\n",
      "AUC Score (Train): 0.997333\n",
      "\n",
      "Test Accuracy\n",
      "Accuracy : 0.6667\n",
      "AUC Score (Test): 0.806000\n"
     ]
    },
    {
     "data": {
      "text/plain": [
       "Text(0, 0.5, 'Feature Importance Score')"
      ]
     },
     "execution_count": 19,
     "metadata": {},
     "output_type": "execute_result"
    },
    {
     "data": {
      "image/png": "[encoded data removed]",
      "text/plain": [
       "<Figure size 432x288 with 1 Axes>"
      ]
     },
     "metadata": {
      "needs_background": "light"
     },
     "output_type": "display_data"
    }
   ],
   "source": [
    "#Print model report:\n",
    "\n",
    "train_pred = model.predict(x_train)\n",
    "train_pred_prob = model.predict_proba(x_train)[:,1]\n",
    "\n",
    "test_pred = model.predict(x_validation)\n",
    "test_pred_prob = model.predict_proba(x_validation)[:,1]\n",
    "\n",
    "print (\"\\nModel Report\")\n",
    "print (\"\\nTrain Accuracy\")\n",
    "print (\"Accuracy : %.4g\" % metrics.accuracy_score(y_train.values, train_pred))\n",
    "print (\"AUC Score (Train): %f\" % metrics.roc_auc_score(y_train, train_pred_prob))\n",
    "print (\"\\nTest Accuracy\")\n",
    "print (\"Accuracy : %.4g\" % metrics.accuracy_score(y_validation.values, test_pred))\n",
    "print (\"AUC Score (Test): %f\" % metrics.roc_auc_score(y_validation, test_pred_prob))\n",
    "\n",
    "feat_imp = pd.Series(model.get_booster().get_fscore()).sort_values(ascending=False)\n",
    "feat_imp.plot(kind='bar', title='Feature Importances')\n",
    "plt.ylabel('Feature Importance Score')"
   ]
  },
  {
   "cell_type": "markdown",
   "metadata": {},
   "source": [
    "From the graphs above, the number of estimators is around 30 and 60. Let us try a varied range of learning rate from 0.01 to 0.1, and also the estimators from 30 to 200"
   ]
  },
  {
   "cell_type": "markdown",
   "metadata": {},
   "source": [
    "# Tuning parameters using the top 10 features"
   ]
  },
  {
   "cell_type": "code",
   "execution_count": 20,
   "metadata": {},
   "outputs": [],
   "source": [
    "imp_features = feat_imp.index[0:11]\n",
    "x_train = x_train[imp_features]\n",
    "x_validation = x_validation[imp_features]\n",
    "test = test[imp_features]"
   ]
  },
  {
   "cell_type": "markdown",
   "metadata": {},
   "source": [
    "# Tuning Estimators and Learning Rate"
   ]
  },
  {
   "cell_type": "code",
   "execution_count": 28,
   "metadata": {},
   "outputs": [
    {
     "name": "stdout",
     "output_type": "stream",
     "text": [
      "Best Params: {'learning_rate': 0.15, 'n_estimators': 21}\n",
      "Best Score: -0.1263\n",
      "\n"
     ]
    }
   ],
   "source": [
    "scoring_method = 'brier_score_loss'\n",
    "parameters = {\n",
    "    'n_estimators': range(10,30,1),\n",
    "    'learning_rate': [0.01, 0.05, 0.1, 0.11, 0.12, 0.13, 0.14, 0.15, 0.16, 0.17, 0.18, 0.19,  0.2, 0.21, 0.22, 0.23, 0.25, 0.30, 0.35],\n",
    "}\n",
    "\n",
    "model_gridSearch = GridSearchCV(estimator = XGBClassifier(max_depth=3, min_child_weight=1, subsample=1,  scale_pos_weight=1.25,\n",
    "                                                          colsample_bytree=0.9, objective='binary:logistic',\n",
    "                                                         reg_lambda=1, reg_alpla=0, seed=9),\n",
    "                                param_grid = parameters, scoring=scoring_method, n_jobs=-1, iid=False, cv=5)\n",
    "\n",
    "model_gridSearch.fit(x_train, y_train)\n",
    "\n",
    "print(\"Best Params: %r\" % model_gridSearch.best_params_)\n",
    "print(\"Best Score: %1.4f\\n\" % model_gridSearch.best_score_)\n",
    "tuned_model = model_gridSearch.best_estimator_\n",
    "# means = model_gridSearch.cv_results_['mean_test_score']\n",
    "# stds = model_gridSearch.cv_results_['std_test_score']\n",
    "# for mean, std, params in zip(means, stds, model_gridSearch.cv_results_['params']): \n",
    "#     print(\"Mean: %0.4f | Std: %0.4f | Params:  %r\" % (mean, std * 2, params))"
   ]
  },
  {
   "cell_type": "markdown",
   "metadata": {},
   "source": [
    "# Tuning the max depth"
   ]
  },
  {
   "cell_type": "code",
   "execution_count": 29,
   "metadata": {},
   "outputs": [
    {
     "name": "stdout",
     "output_type": "stream",
     "text": [
      "Best Params: {'max_depth': 3}\n",
      "Best Score: -0.1263\n",
      "\n"
     ]
    }
   ],
   "source": [
    "parameters = {\n",
    "    'max_depth': [1,2,3,4,5,6,7,8,9,10,11,12,13,14,15]\n",
    "}\n",
    "\n",
    "model_gridSearch = GridSearchCV(estimator = tuned_model,\n",
    "                                param_grid = parameters, scoring=scoring_method, n_jobs=-1, iid=False, cv=5)\n",
    "\n",
    "model_gridSearch.fit(x_train, y_train)\n",
    "\n",
    "print(\"Best Params: %r\" % model_gridSearch.best_params_)\n",
    "print(\"Best Score: %1.4f\\n\" % model_gridSearch.best_score_)\n",
    "tuned_model = model_gridSearch.best_estimator_\n",
    "\n",
    "# means = model_gridSearch.cv_results_['mean_test_score']\n",
    "# stds = model_gridSearch.cv_results_['std_test_score']\n",
    "# for mean, std, params in zip(means, stds, model_gridSearch.cv_results_['params']): \n",
    "#     print(\"Mean: %0.4f | Std: %0.4f | Params:  %r\" % (mean, std * 2, params))"
   ]
  },
  {
   "cell_type": "markdown",
   "metadata": {},
   "source": [
    "# Tuning the min child weight"
   ]
  },
  {
   "cell_type": "code",
   "execution_count": 30,
   "metadata": {},
   "outputs": [
    {
     "name": "stdout",
     "output_type": "stream",
     "text": [
      "Best Params: {'min_child_weight': 1}\n",
      "Best Score: -0.1263\n",
      "\n"
     ]
    }
   ],
   "source": [
    "parameters = {\n",
    "    'min_child_weight': [0.1, 0.5, 0.01, 0.06, 1,2,3,4, 4.5, 4.6, 4.7, 4.8, 4.9, 5, 5.1, 5.2, 5.3, 5.4, 5.5, 5.6, 5.7, 5.8, 5.9, 6]\n",
    "}\n",
    "\n",
    "model_gridSearch = GridSearchCV(estimator = tuned_model,\n",
    "                                param_grid = parameters, scoring=scoring_method, n_jobs=-1, iid=False, cv=5)\n",
    "\n",
    "model_gridSearch.fit(x_train, y_train)\n",
    "\n",
    "print(\"Best Params: %r\" % model_gridSearch.best_params_)\n",
    "print(\"Best Score: %1.4f\\n\" % model_gridSearch.best_score_)\n",
    "tuned_model = model_gridSearch.best_estimator_\n",
    "\n",
    "# means = model_gridSearch.cv_results_['mean_test_score']\n",
    "# stds = model_gridSearch.cv_results_['std_test_score']\n",
    "# for mean, std, params in zip(means, stds, model_gridSearch.cv_results_['params']): \n",
    "#     print(\"Mean: %0.4f | Std: %0.4f | Params:  %r\" % (mean, std * 2, params))"
   ]
  },
  {
   "cell_type": "markdown",
   "metadata": {},
   "source": [
    "# Tuning the regularization parameters"
   ]
  },
  {
   "cell_type": "code",
   "execution_count": 31,
   "metadata": {},
   "outputs": [
    {
     "name": "stdout",
     "output_type": "stream",
     "text": [
      "Best Params: {'reg_alpha': 0.1, 'reg_lambda': 1.3}\n",
      "Best Score: -0.1257\n",
      "\n"
     ]
    }
   ],
   "source": [
    "parameters = {\n",
    "    'reg_alpha': [0, 1e-5, 1e-2, 0.1, 1],\n",
    "    'reg_lambda': [0, 1e-5, 1e-2, 0.1, 1, 1.1, 1.2, 1.3, 1.4, 1.5, 4, 16, 32, 64]\n",
    "}\n",
    "\n",
    "model_gridSearch = GridSearchCV(estimator = tuned_model,\n",
    "                                param_grid = parameters, scoring=scoring_method, n_jobs=-1, iid=False, cv=5)\n",
    "\n",
    "model_gridSearch.fit(x_train, y_train)\n",
    "\n",
    "print(\"Best Params: %r\" % model_gridSearch.best_params_)\n",
    "print(\"Best Score: %1.4f\\n\" % model_gridSearch.best_score_)\n",
    "tuned_model = model_gridSearch.best_estimator_\n",
    "\n",
    "# means = model_gridSearch.cv_results_['mean_test_score']\n",
    "# stds = model_gridSearch.cv_results_['std_test_score']\n",
    "# for mean, std, params in zip(means, stds, model_gridSearch.cv_results_['params']): \n",
    "#     print(\"Mean: %0.4f | Std: %0.4f | Params:  %r\" % (mean, std * 2, params))"
   ]
  },
  {
   "cell_type": "markdown",
   "metadata": {},
   "source": [
    "# Running one more iteration for all parameters"
   ]
  },
  {
   "cell_type": "code",
   "execution_count": null,
   "metadata": {},
   "outputs": [],
   "source": [
    "# parameters = {\n",
    "#     'reg_alpha': [0.008,0.009, 0.01, 0.011, 0.012],\n",
    "#     'reg_lambda': [1.28, 1.29, 1.3, 1.31, 1.32],\n",
    "#     'n_estimators': range(16,25,1),\n",
    "#     'learning_rate': [ 0.188, 0.189, 0.190, 0.191, 0.192],\n",
    "#     'min_child_weight': [0.08, 0.09, 0.1, 0.11, 0.12],\n",
    "#     'max_depth': [2,3,4,5]\n",
    "# }\n",
    "\n",
    "# model_gridSearch = GridSearchCV(estimator = tuned_model,\n",
    "#                                 param_grid = parameters, scoring='neg_log_loss', n_jobs=-1, iid=False, cv=5)\n",
    "\n",
    "# model_gridSearch.fit(x_train, y_train)\n",
    "\n",
    "# print(\"Best Params: %r\" % model_gridSearch.best_params_)\n",
    "# print(\"Best Score: %1.4f\\n\" % model_gridSearch.best_score_)\n",
    "# tuned_model = model_gridSearch.best_estimator_\n",
    "\n",
    "# # means = model_gridSearch.cv_results_['mean_test_score']\n",
    "# # stds = model_gridSearch.cv_results_['std_test_score']\n",
    "# # for mean, std, params in zip(means, stds, model_gridSearch.cv_results_['params']): \n",
    "# #     print(\"Mean: %0.4f | Std: %0.4f | Params:  %r\" % (mean, std * 2, params))"
   ]
  },
  {
   "cell_type": "code",
   "execution_count": null,
   "metadata": {},
   "outputs": [],
   "source": [
    "tuned_model"
   ]
  },
  {
   "cell_type": "markdown",
   "metadata": {},
   "source": [
    "Let us finally run the model using the above optimized parameters"
   ]
  },
  {
   "cell_type": "code",
   "execution_count": 32,
   "metadata": {
    "scrolled": true
   },
   "outputs": [
    {
     "name": "stdout",
     "output_type": "stream",
     "text": [
      "\n",
      "Model Report\n",
      "\n",
      "Train Accuracy\n",
      "Accuracy : 0.8963\n",
      "Logloss : 3.582\n",
      "AUC Score (Train): 0.979000\n",
      "\n",
      "Test Accuracy\n",
      "Accuracy : 0.6889\n",
      "Losloss : 10.75\n",
      "AUC Score (Train): 0.798000\n"
     ]
    }
   ],
   "source": [
    "# Extracting the list of important features\n",
    "\n",
    "model = tuned_model\n",
    "    \n",
    "#Fit the algorithm on the data\n",
    "model.fit(x_train, y_train,eval_metric='logloss')\n",
    "        \n",
    "#Print model report:\n",
    "\n",
    "train_pred = model.predict(x_train)\n",
    "train_pred_prob = model.predict_proba(x_train)[:,1]\n",
    "\n",
    "test_pred = model.predict(x_validation)\n",
    "test_pred_prob = model.predict_proba(x_validation)[:,1]\n",
    "\n",
    "print (\"\\nModel Report\")\n",
    "print (\"\\nTrain Accuracy\")\n",
    "print (\"Accuracy : %.4g\" % metrics.accuracy_score(y_train.values, train_pred))\n",
    "print (\"Logloss : %.4g\" % metrics.log_loss(y_train.values, train_pred))\n",
    "print (\"AUC Score (Train): %f\" % metrics.roc_auc_score(y_train, train_pred_prob))\n",
    "print (\"\\nTest Accuracy\")\n",
    "print (\"Accuracy : %.4g\" % metrics.accuracy_score(y_validation.values, test_pred))\n",
    "print (\"Losloss : %.4g\" % metrics.log_loss(y_validation.values, test_pred))\n",
    "print (\"AUC Score (Train): %f\" % metrics.roc_auc_score(y_validation, test_pred_prob))"
   ]
  },
  {
   "cell_type": "code",
   "execution_count": 33,
   "metadata": {
    "scrolled": true
   },
   "outputs": [
    {
     "name": "stdout",
     "output_type": "stream",
     "text": [
      "Confustion Matrix for Training Data\n",
      "[[69  6]\n",
      " [ 8 52]]\n",
      "Confustion Matrix for Test Data\n",
      "[[17  8]\n",
      " [ 6 14]]\n",
      "Classification Report for Training Data\n",
      "              precision    recall  f1-score   support\n",
      "\n",
      "           0       0.90      0.92      0.91        75\n",
      "           1       0.90      0.87      0.88        60\n",
      "\n",
      "   micro avg       0.90      0.90      0.90       135\n",
      "   macro avg       0.90      0.89      0.89       135\n",
      "weighted avg       0.90      0.90      0.90       135\n",
      "\n",
      "Classification Report for Test Data\n",
      "              precision    recall  f1-score   support\n",
      "\n",
      "           0       0.74      0.68      0.71        25\n",
      "           1       0.64      0.70      0.67        20\n",
      "\n",
      "   micro avg       0.69      0.69      0.69        45\n",
      "   macro avg       0.69      0.69      0.69        45\n",
      "weighted avg       0.69      0.69      0.69        45\n",
      "\n"
     ]
    }
   ],
   "source": [
    "# Confusion Matrix and Report\n",
    "\n",
    "from sklearn.metrics import confusion_matrix\n",
    "from sklearn.metrics import classification_report\n",
    "\n",
    "# Confusion Matrix Comparison\n",
    "print(\"Confustion Matrix for Training Data\")\n",
    "print(confusion_matrix(y_train, train_pred))\n",
    "print(\"Confustion Matrix for Test Data\")\n",
    "print(confusion_matrix(y_validation, test_pred))\n",
    "\n",
    "# Classification Report Comparison\n",
    "print(\"Classification Report for Training Data\")\n",
    "print(classification_report(y_train, train_pred))\n",
    "print(\"Classification Report for Test Data\")\n",
    "print(classification_report(y_validation, test_pred))"
   ]
  },
  {
   "cell_type": "code",
   "execution_count": 34,
   "metadata": {},
   "outputs": [],
   "source": [
    "# Predicting the test data set\n",
    "\n",
    "test_pred_prob = model.predict_proba(test)[:,1]\n",
    "output = pd.DataFrame({'patient_id': test_id, 'heart_disease_present':test_pred_prob})\n",
    "output.to_csv(cwd + \"\\\\Output Data\\\\Submission 9 - XGBoost 0.6889 0.4 colSample using BrierScore.csv\", index=False)"
   ]
  },
  {
   "cell_type": "code",
   "execution_count": null,
   "metadata": {},
   "outputs": [],
   "source": []
  },
  {
   "cell_type": "code",
   "execution_count": null,
   "metadata": {},
   "outputs": [],
   "source": [
    "# XGBoost Parameters: https://xgboost.readthedocs.io/en/latest/parameter.html\n",
    "# https://www.kaggle.com/cast42/xg-cv\n",
    "# https://www.analyticsvidhya.com/blog/2016/03/complete-guide-parameter-tuning-xgboost-with-codes-python/\n",
    "# https://www.analyticsvidhya.com/blog/2016/02/complete-guide-parameter-tuning-gradient-boosting-gbm-python/\n",
    "# https://www.analyticsvidhya.com/blog/2017/06/which-algorithm-takes-the-crown-light-gbm-vs-xgboost/\n",
    "# https://www.hackerearth.com/practice/machine-learning/machine-learning-algorithms/beginners-tutorial-on-xgboost-parameter-tuning-r/tutorial/\n",
    "\n",
    "# XGBoost vs sklearn wrapper: https://stackoverflow.com/questions/46943674/how-to-get-predictions-with-xgboost-and-xgboost-using-scikit-learn-wrapper-to-ma\n",
    "\n",
    "# Finetuning Parameters\n",
    "\n",
    "# https://towardsdatascience.com/fine-tuning-xgboost-in-python-like-a-boss-b4543ed8b1e\n",
    "# https://towardsdatascience.com/selecting-optimal-parameters-for-xgboost-model-training-c7cd9ed5e45e\n",
    "# https://machinelearningmastery.com/avoid-overfitting-by-early-stopping-with-xgboost-in-python/"
   ]
  }
 ],
 "metadata": {
  "kernelspec": {
   "display_name": "Python 3",
   "language": "python",
   "name": "python3"
  },
  "language_info": {
   "codemirror_mode": {
    "name": "ipython",
    "version": 3
   },
   "file_extension": ".py",
   "mimetype": "text/x-python",
   "name": "python",
   "nbconvert_exporter": "python",
   "pygments_lexer": "ipython3",
   "version": "3.7.3"
  }
 },
 "nbformat": 4,
 "nbformat_minor": 2
}
