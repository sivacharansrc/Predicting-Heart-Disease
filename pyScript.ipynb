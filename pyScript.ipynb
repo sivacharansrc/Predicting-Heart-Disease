{
 "cells": [
  {
   "cell_type": "code",
   "execution_count": 13,
   "metadata": {},
   "outputs": [],
   "source": [
    "# Importing necessary libraries\n",
    "\n",
    "import pandas as pd\n",
    "import numpy as np\n",
    "import matplotlib.pyplot as plt\n",
    "%matplotlib inline\n",
    "import seaborn as sns\n",
    "\n",
    "pd.set_option('display.max_rows', 100)\n",
    "pd.set_option('display.max_columns', 100)\n",
    "pd.set_option('expand_frame_repr', False)"
   ]
  },
  {
   "cell_type": "code",
   "execution_count": 14,
   "metadata": {},
   "outputs": [],
   "source": [
    "# Reading the input file\n",
    "\n",
    "import os\n",
    "cwd = os.getcwd()\n",
    "\n",
    "train_values = cwd + \"\\\\Source Data\\\\train_values.csv\"\n",
    "train_values = pd.read_csv(train_values)\n",
    "train_labels = cwd + \"\\\\Source Data\\\\train_labels.csv\"\n",
    "train_labels = pd.read_csv(train_labels)\n",
    "\n",
    "train = train_values.join(train_labels.set_index('patient_id'), on='patient_id', how='left')\n"
   ]
  },
  {
   "cell_type": "code",
   "execution_count": 42,
   "metadata": {},
   "outputs": [],
   "source": [
    "# Data Prep\n",
    "\n",
    "re_categorize_values = {\"chest_pain_type\": {1: \"one\", 2: \"two\", 3: \"three\", 4: \"four\"},\n",
    "                       \"fasting_blood_sugar_gt_120_mg_per_dl\": {0: \"Less than 120\", 1: \"Greater than 120\"},\n",
    "                       \"resting_ekg_results\": {1: \"one\", 2: \"two\", 0: \"zero\"},\n",
    "                       \"sex\": {0: \"female\", 1: \"male\"},\n",
    "                       \"exercise_induced_angina\": {0: \"No\", 1: \"Yes\"}}\n",
    "\n",
    "train.replace(re_categorize_values, inplace=True)\n",
    "\n",
    "y = train['heart_disease_present']\n",
    "x = train.drop(['heart_disease_present', 'patient_id'], axis=1)\n"
   ]
  },
  {
   "cell_type": "code",
   "execution_count": 43,
   "metadata": {},
   "outputs": [
    {
     "data": {
      "text/html": [
       "<div>\n",
       "<style scoped>\n",
       "    .dataframe tbody tr th:only-of-type {\n",
       "        vertical-align: middle;\n",
       "    }\n",
       "\n",
       "    .dataframe tbody tr th {\n",
       "        vertical-align: top;\n",
       "    }\n",
       "\n",
       "    .dataframe thead th {\n",
       "        text-align: right;\n",
       "    }\n",
       "</style>\n",
       "<table border=\"1\" class=\"dataframe\">\n",
       "  <thead>\n",
       "    <tr style=\"text-align: right;\">\n",
       "      <th></th>\n",
       "      <th>slope_of_peak_exercise_st_segment</th>\n",
       "      <th>thal</th>\n",
       "      <th>resting_blood_pressure</th>\n",
       "      <th>chest_pain_type</th>\n",
       "      <th>num_major_vessels</th>\n",
       "      <th>fasting_blood_sugar_gt_120_mg_per_dl</th>\n",
       "      <th>resting_ekg_results</th>\n",
       "      <th>serum_cholesterol_mg_per_dl</th>\n",
       "      <th>oldpeak_eq_st_depression</th>\n",
       "      <th>sex</th>\n",
       "      <th>age</th>\n",
       "      <th>max_heart_rate_achieved</th>\n",
       "      <th>exercise_induced_angina</th>\n",
       "    </tr>\n",
       "  </thead>\n",
       "  <tbody>\n",
       "    <tr>\n",
       "      <th>0</th>\n",
       "      <td>1</td>\n",
       "      <td>normal</td>\n",
       "      <td>128</td>\n",
       "      <td>two</td>\n",
       "      <td>0</td>\n",
       "      <td>Less than 120</td>\n",
       "      <td>two</td>\n",
       "      <td>308</td>\n",
       "      <td>0.0</td>\n",
       "      <td>male</td>\n",
       "      <td>45</td>\n",
       "      <td>170</td>\n",
       "      <td>No</td>\n",
       "    </tr>\n",
       "    <tr>\n",
       "      <th>1</th>\n",
       "      <td>2</td>\n",
       "      <td>normal</td>\n",
       "      <td>110</td>\n",
       "      <td>three</td>\n",
       "      <td>0</td>\n",
       "      <td>Less than 120</td>\n",
       "      <td>zero</td>\n",
       "      <td>214</td>\n",
       "      <td>1.6</td>\n",
       "      <td>female</td>\n",
       "      <td>54</td>\n",
       "      <td>158</td>\n",
       "      <td>No</td>\n",
       "    </tr>\n",
       "    <tr>\n",
       "      <th>2</th>\n",
       "      <td>1</td>\n",
       "      <td>normal</td>\n",
       "      <td>125</td>\n",
       "      <td>four</td>\n",
       "      <td>3</td>\n",
       "      <td>Less than 120</td>\n",
       "      <td>two</td>\n",
       "      <td>304</td>\n",
       "      <td>0.0</td>\n",
       "      <td>male</td>\n",
       "      <td>77</td>\n",
       "      <td>162</td>\n",
       "      <td>Yes</td>\n",
       "    </tr>\n",
       "    <tr>\n",
       "      <th>3</th>\n",
       "      <td>1</td>\n",
       "      <td>reversible_defect</td>\n",
       "      <td>152</td>\n",
       "      <td>four</td>\n",
       "      <td>0</td>\n",
       "      <td>Less than 120</td>\n",
       "      <td>zero</td>\n",
       "      <td>223</td>\n",
       "      <td>0.0</td>\n",
       "      <td>male</td>\n",
       "      <td>40</td>\n",
       "      <td>181</td>\n",
       "      <td>No</td>\n",
       "    </tr>\n",
       "    <tr>\n",
       "      <th>4</th>\n",
       "      <td>3</td>\n",
       "      <td>reversible_defect</td>\n",
       "      <td>178</td>\n",
       "      <td>one</td>\n",
       "      <td>0</td>\n",
       "      <td>Less than 120</td>\n",
       "      <td>two</td>\n",
       "      <td>270</td>\n",
       "      <td>4.2</td>\n",
       "      <td>male</td>\n",
       "      <td>59</td>\n",
       "      <td>145</td>\n",
       "      <td>No</td>\n",
       "    </tr>\n",
       "  </tbody>\n",
       "</table>\n",
       "</div>"
      ],
      "text/plain": [
       "   slope_of_peak_exercise_st_segment               thal  resting_blood_pressure chest_pain_type  num_major_vessels fasting_blood_sugar_gt_120_mg_per_dl resting_ekg_results  serum_cholesterol_mg_per_dl  oldpeak_eq_st_depression     sex  age  max_heart_rate_achieved exercise_induced_angina\n",
       "0                                  1             normal                     128             two                  0                        Less than 120                 two                          308                       0.0    male   45                      170                      No\n",
       "1                                  2             normal                     110           three                  0                        Less than 120                zero                          214                       1.6  female   54                      158                      No\n",
       "2                                  1             normal                     125            four                  3                        Less than 120                 two                          304                       0.0    male   77                      162                     Yes\n",
       "3                                  1  reversible_defect                     152            four                  0                        Less than 120                zero                          223                       0.0    male   40                      181                      No\n",
       "4                                  3  reversible_defect                     178             one                  0                        Less than 120                 two                          270                       4.2    male   59                      145                      No"
      ]
     },
     "execution_count": 43,
     "metadata": {},
     "output_type": "execute_result"
    }
   ],
   "source": [
    "x.head()"
   ]
  },
  {
   "cell_type": "code",
   "execution_count": 3,
   "metadata": {},
   "outputs": [
    {
     "data": {
      "text/plain": [
       "<matplotlib.axes._subplots.AxesSubplot at 0x1e2be40ccc0>"
      ]
     },
     "execution_count": 3,
     "metadata": {},
     "output_type": "execute_result"
    },
    {
     "data": {
      "image/png": "[encoded data removed]",
      "text/plain": [
       "<Figure size 432x288 with 1 Axes>"
      ]
     },
     "metadata": {
      "needs_background": "light"
     },
     "output_type": "display_data"
    }
   ],
   "source": [
    "# Analyzing the train data\n",
    "\n",
    "# train.isna().sum() # There are no missing values\n",
    "\n",
    "# Checking the class imbalance\n",
    "\n",
    "sns.countplot(train['heart_disease_present'], palette='dark')\n",
    "\n",
    "# There is not much class imbalance. We may not need any over or under sampling"
   ]
  },
  {
   "cell_type": "code",
   "execution_count": 4,
   "metadata": {},
   "outputs": [
    {
     "data": {
      "text/plain": [
       "<matplotlib.axes._subplots.AxesSubplot at 0x1e2be730c50>"
      ]
     },
     "execution_count": 4,
     "metadata": {},
     "output_type": "execute_result"
    },
    {
     "data": {
      "image/png": "[encoded data removed]",
      "text/plain": [
       "<Figure size 432x288 with 1 Axes>"
      ]
     },
     "metadata": {
      "needs_background": "light"
     },
     "output_type": "display_data"
    }
   ],
   "source": [
    "# Analyzing the resting blood pressure to see if it has any effect on heart problems\n",
    "\n",
    "sns.boxplot(y='resting_blood_pressure', x='heart_disease_present', data=train, palette='dark')\n",
    "# The median of the distribution is more or less the same. See if creating a new feature, for\n",
    "# resting heart rate less than 100 as low risk, 100 through 160 is normal, and greater than 160 \n",
    "# is at a higher risk to see if it can improve the model"
   ]
  },
  {
   "cell_type": "code",
   "execution_count": 66,
   "metadata": {},
   "outputs": [
    {
     "data": {
      "image/png": "[encoded data removed]",
      "text/plain": [
       "<Figure size 1440x720 with 6 Axes>"
      ]
     },
     "metadata": {
      "needs_background": "light"
     },
     "output_type": "display_data"
    }
   ],
   "source": [
    "def generate_count_plots(x,y):\n",
    "    import seaborn as sns\n",
    "    import pandas as pd\n",
    "    import numpy as np\n",
    "    import matplotlib.pyplot as plt\n",
    "    %matplotlib inline\n",
    "    \n",
    "    new_df = x.select_dtypes(include='object')\n",
    "    total_cols = new_df.shape[1]\n",
    "    item_counter = total_cols - 1\n",
    "    \n",
    "    # Generating the number of rows required\n",
    "    \n",
    "    rows = total_cols // 3\n",
    "    remainder = total_cols%3\n",
    "    \n",
    "    if remainder != 0:\n",
    "        rows = rows + 1\n",
    "    \n",
    "    # Generating code for the plots\n",
    "    plt.figure(figsize=(20,10))\n",
    "    for i in range(total_cols):\n",
    "        x_col = new_df.iloc[:,i]\n",
    "        plt.subplot(rows, 3, i+1)\n",
    "        sns.countplot(x_col, hue=y, palette='dark')\n",
    "        \n",
    "    plt.show()\n",
    "\n",
    "generate_count_plots(x,y)"
   ]
  },
  {
   "cell_type": "markdown",
   "metadata": {},
   "source": [
    "From the above charts, there is a possibility that people that are male sex, and have type four chest pain type, and \n",
    "reversable defect thal, and exercise induced angina have high changes of having heart diseases"
   ]
  }
 ],
 "metadata": {
  "kernelspec": {
   "display_name": "Python 3",
   "language": "python",
   "name": "python3"
  },
  "language_info": {
   "codemirror_mode": {
    "name": "ipython",
    "version": 3
   },
   "file_extension": ".py",
   "mimetype": "text/x-python",
   "name": "python",
   "nbconvert_exporter": "python",
   "pygments_lexer": "ipython3",
   "version": "3.7.3"
  }
 },
 "nbformat": 4,
 "nbformat_minor": 2
}
